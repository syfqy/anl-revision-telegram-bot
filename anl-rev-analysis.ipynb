{
 "cells": [
  {
   "cell_type": "markdown",
   "metadata": {
    "slideshow": {
     "slide_type": "slide"
    }
   },
   "source": [
    "# ANL Revision Bot Jul 19 Analysis Report\n"
   ]
  },
  {
   "cell_type": "markdown",
   "metadata": {
    "slideshow": {
     "slide_type": "slide"
    }
   },
   "source": [
    "### 1. Introduction<br>\n",
    "\n",
    "During the Jul 19 semester, I took on a two-part personal project of creating a revision tool for BA students in preparation for the final exams. The tool was a telegram chatbot that allowed students to practice PCQ questions from the 3 ANL modules that BA students were enrolled in namely, ANL303 Fundamentals of Data Mining, ANL305 Association & Clustering and ANL321 Statistical Methods. \n",
    "\n",
    "Telegram was chosen as the medium for delivering the quiz for 2 reasons. The first was to encourage frequent  <a href='http://www.flashcardlearner.com/articles/what-is-spaced-repetition/'>spaced repetition</a> - a technique shown to be effecive in improving recall. Telegram is an instant messaging app available on mobile devices, which allows the quiz to be easily accessible without the need for logins, loading of websites or documents. The second reason was that there was not much front-end development (e.g. UI elements) needed as the quiz will be delivered through a chatbot. This expedited the completion of the bot. Here is a screenshot of the bot:\n",
    "\n",
    "![arbot.png](arbot.png)<br><br>\n",
    "\n",
    "The bot was programmed to collect data from users. Part 2 of the project involved performing analysis on the data collected to derive actionable insights. Thus, this report aims to present the findings derived and share the methods that were used to obtain them."
   ]
  },
  {
   "cell_type": "code",
   "execution_count": 1,
   "metadata": {
    "slideshow": {
     "slide_type": "subslide"
    }
   },
   "outputs": [],
   "source": [
    "import numpy as np\n",
    "import pandas as pd\n",
    "from matplotlib import pyplot as plt\n",
    "import seaborn as sns\n",
    "%matplotlib inline"
   ]
  },
  {
   "cell_type": "code",
   "execution_count": 2,
   "metadata": {
    "slideshow": {
     "slide_type": "subslide"
    }
   },
   "outputs": [],
   "source": [
    "# Import dataset\n",
    "df=pd.read_csv('anlbotdata.csv')\n",
    "pd.options.mode.chained_assignment = None"
   ]
  },
  {
   "cell_type": "markdown",
   "metadata": {
    "slideshow": {
     "slide_type": "slide"
    }
   },
   "source": [
    "The dataset contains 141 records. Each record represents a quiz attempt by a student. It also contains 5 attributes. The description of the attributes are shown in one of the tables below.\n"
   ]
  },
  {
   "cell_type": "code",
   "execution_count": 3,
   "metadata": {
    "slideshow": {
     "slide_type": "subslide"
    }
   },
   "outputs": [
    {
     "name": "stdout",
     "output_type": "stream",
     "text": [
      "<class 'pandas.core.frame.DataFrame'>\n",
      "RangeIndex: 141 entries, 0 to 140\n",
      "Data columns (total 5 columns):\n",
      "user_id     141 non-null int64\n",
      "module      141 non-null object\n",
      "num_q       141 non-null int64\n",
      "r_score     141 non-null int64\n",
      "datetime    141 non-null object\n",
      "dtypes: int64(3), object(2)\n",
      "memory usage: 5.6+ KB\n"
     ]
    }
   ],
   "source": [
    "df.info()"
   ]
  },
  {
   "cell_type": "markdown",
   "metadata": {
    "slideshow": {
     "slide_type": "subslide"
    }
   },
   "source": [
    "Table of attributes in dataset\n",
    "\n",
    "| Attribute name | Description | Data type |\n",
    "|---|---|---|\n",
    "| user_id | Student's unique telegram id | Integer |\n",
    "| module | Module code of selected quiz | String |\n",
    "| num_q | Number of questions selected for quiz | Integer |\n",
    "| r_score| Number of questions answered correctly | Integer |\n",
    "| datetime | Date and time of attempt | Datetime |"
   ]
  },
  {
   "cell_type": "code",
   "execution_count": 4,
   "metadata": {
    "slideshow": {
     "slide_type": "subslide"
    }
   },
   "outputs": [
    {
     "data": {
      "text/html": [
       "<div>\n",
       "<style scoped>\n",
       "    .dataframe tbody tr th:only-of-type {\n",
       "        vertical-align: middle;\n",
       "    }\n",
       "\n",
       "    .dataframe tbody tr th {\n",
       "        vertical-align: top;\n",
       "    }\n",
       "\n",
       "    .dataframe thead th {\n",
       "        text-align: right;\n",
       "    }\n",
       "</style>\n",
       "<table border=\"1\" class=\"dataframe\">\n",
       "  <thead>\n",
       "    <tr style=\"text-align: right;\">\n",
       "      <th></th>\n",
       "      <th>user_id</th>\n",
       "      <th>module</th>\n",
       "      <th>num_q</th>\n",
       "      <th>r_score</th>\n",
       "      <th>datetime</th>\n",
       "    </tr>\n",
       "  </thead>\n",
       "  <tbody>\n",
       "    <tr>\n",
       "      <th>0</th>\n",
       "      <td>436076599</td>\n",
       "      <td>ANL303</td>\n",
       "      <td>10</td>\n",
       "      <td>0</td>\n",
       "      <td>1/11/2019 19:01</td>\n",
       "    </tr>\n",
       "    <tr>\n",
       "      <th>1</th>\n",
       "      <td>27434070</td>\n",
       "      <td>ANL305</td>\n",
       "      <td>10</td>\n",
       "      <td>1</td>\n",
       "      <td>1/11/2019 19:50</td>\n",
       "    </tr>\n",
       "    <tr>\n",
       "      <th>2</th>\n",
       "      <td>245439523</td>\n",
       "      <td>ANL305</td>\n",
       "      <td>10</td>\n",
       "      <td>10</td>\n",
       "      <td>1/11/2019 19:50</td>\n",
       "    </tr>\n",
       "    <tr>\n",
       "      <th>3</th>\n",
       "      <td>244400044</td>\n",
       "      <td>ANL303</td>\n",
       "      <td>10</td>\n",
       "      <td>9</td>\n",
       "      <td>1/11/2019 19:50</td>\n",
       "    </tr>\n",
       "    <tr>\n",
       "      <th>4</th>\n",
       "      <td>571453235</td>\n",
       "      <td>ANL305</td>\n",
       "      <td>10</td>\n",
       "      <td>9</td>\n",
       "      <td>1/11/2019 19:50</td>\n",
       "    </tr>\n",
       "  </tbody>\n",
       "</table>\n",
       "</div>"
      ],
      "text/plain": [
       "     user_id  module  num_q  r_score         datetime\n",
       "0  436076599  ANL303     10        0  1/11/2019 19:01\n",
       "1   27434070  ANL305     10        1  1/11/2019 19:50\n",
       "2  245439523  ANL305     10       10  1/11/2019 19:50\n",
       "3  244400044  ANL303     10        9  1/11/2019 19:50\n",
       "4  571453235  ANL305     10        9  1/11/2019 19:50"
      ]
     },
     "execution_count": 4,
     "metadata": {},
     "output_type": "execute_result"
    }
   ],
   "source": [
    "df.head()"
   ]
  },
  {
   "cell_type": "code",
   "execution_count": 5,
   "metadata": {
    "slideshow": {
     "slide_type": "subslide"
    }
   },
   "outputs": [
    {
     "data": {
      "text/plain": [
       "36"
      ]
     },
     "execution_count": 5,
     "metadata": {},
     "output_type": "execute_result"
    }
   ],
   "source": [
    "# Number of unique users\n",
    "df['user_id'].nunique()"
   ]
  },
  {
   "cell_type": "markdown",
   "metadata": {},
   "source": [
    "There were **36** unique users of the bot."
   ]
  },
  {
   "cell_type": "markdown",
   "metadata": {},
   "source": [
    "### 2. Data preparation"
   ]
  },
  {
   "cell_type": "markdown",
   "metadata": {},
   "source": [
    "#### a (i). Transform raw score to percentage score\n",
    "\n",
    "The r_score attribute contains the number of questions answered correctly by the user. However, the total number of questions in the quiz can either be 10, 15 or 20 depending on the user's selection. Thus, the raw score needs to be expresed as a percentage of the total number of questions (num_q) to be suitable for analysis. The new attribute will be named 'score'."
   ]
  },
  {
   "cell_type": "code",
   "execution_count": 6,
   "metadata": {},
   "outputs": [
    {
     "data": {
      "text/html": [
       "<div>\n",
       "<style scoped>\n",
       "    .dataframe tbody tr th:only-of-type {\n",
       "        vertical-align: middle;\n",
       "    }\n",
       "\n",
       "    .dataframe tbody tr th {\n",
       "        vertical-align: top;\n",
       "    }\n",
       "\n",
       "    .dataframe thead th {\n",
       "        text-align: right;\n",
       "    }\n",
       "</style>\n",
       "<table border=\"1\" class=\"dataframe\">\n",
       "  <thead>\n",
       "    <tr style=\"text-align: right;\">\n",
       "      <th></th>\n",
       "      <th>user_id</th>\n",
       "      <th>module</th>\n",
       "      <th>num_q</th>\n",
       "      <th>r_score</th>\n",
       "      <th>datetime</th>\n",
       "      <th>score</th>\n",
       "    </tr>\n",
       "  </thead>\n",
       "  <tbody>\n",
       "    <tr>\n",
       "      <th>0</th>\n",
       "      <td>436076599</td>\n",
       "      <td>ANL303</td>\n",
       "      <td>10</td>\n",
       "      <td>0</td>\n",
       "      <td>1/11/2019 19:01</td>\n",
       "      <td>0.0</td>\n",
       "    </tr>\n",
       "    <tr>\n",
       "      <th>1</th>\n",
       "      <td>27434070</td>\n",
       "      <td>ANL305</td>\n",
       "      <td>10</td>\n",
       "      <td>1</td>\n",
       "      <td>1/11/2019 19:50</td>\n",
       "      <td>0.1</td>\n",
       "    </tr>\n",
       "    <tr>\n",
       "      <th>2</th>\n",
       "      <td>245439523</td>\n",
       "      <td>ANL305</td>\n",
       "      <td>10</td>\n",
       "      <td>10</td>\n",
       "      <td>1/11/2019 19:50</td>\n",
       "      <td>1.0</td>\n",
       "    </tr>\n",
       "    <tr>\n",
       "      <th>3</th>\n",
       "      <td>244400044</td>\n",
       "      <td>ANL303</td>\n",
       "      <td>10</td>\n",
       "      <td>9</td>\n",
       "      <td>1/11/2019 19:50</td>\n",
       "      <td>0.9</td>\n",
       "    </tr>\n",
       "    <tr>\n",
       "      <th>4</th>\n",
       "      <td>571453235</td>\n",
       "      <td>ANL305</td>\n",
       "      <td>10</td>\n",
       "      <td>9</td>\n",
       "      <td>1/11/2019 19:50</td>\n",
       "      <td>0.9</td>\n",
       "    </tr>\n",
       "  </tbody>\n",
       "</table>\n",
       "</div>"
      ],
      "text/plain": [
       "     user_id  module  num_q  r_score         datetime  score\n",
       "0  436076599  ANL303     10        0  1/11/2019 19:01    0.0\n",
       "1   27434070  ANL305     10        1  1/11/2019 19:50    0.1\n",
       "2  245439523  ANL305     10       10  1/11/2019 19:50    1.0\n",
       "3  244400044  ANL303     10        9  1/11/2019 19:50    0.9\n",
       "4  571453235  ANL305     10        9  1/11/2019 19:50    0.9"
      ]
     },
     "execution_count": 6,
     "metadata": {},
     "output_type": "execute_result"
    }
   ],
   "source": [
    "# Create new column labeled 'score'\n",
    "df['score']=df['r_score']/df['num_q']\n",
    "df.head()"
   ]
  },
  {
   "cell_type": "code",
   "execution_count": 7,
   "metadata": {},
   "outputs": [
    {
     "data": {
      "text/plain": [
       "6"
      ]
     },
     "execution_count": 7,
     "metadata": {},
     "output_type": "execute_result"
    }
   ],
   "source": [
    "# Check records with zero score\n",
    "sum(df['score']== 0)"
   ]
  },
  {
   "cell_type": "markdown",
   "metadata": {},
   "source": [
    "There are 6 records with a score of 0. These included test runs of the bot and thus, should be treated as anomalies. They are removed from the dataset."
   ]
  },
  {
   "cell_type": "code",
   "execution_count": 8,
   "metadata": {},
   "outputs": [
    {
     "data": {
      "text/plain": [
       "0"
      ]
     },
     "execution_count": 8,
     "metadata": {},
     "output_type": "execute_result"
    }
   ],
   "source": [
    "# Removing records with score = 0\n",
    "df = df[df['score'] != 0]\n",
    "sum(df['score']==0)"
   ]
  },
  {
   "cell_type": "code",
   "execution_count": 9,
   "metadata": {},
   "outputs": [
    {
     "name": "stdout",
     "output_type": "stream",
     "text": [
      "<class 'pandas.core.frame.DataFrame'>\n",
      "Int64Index: 135 entries, 1 to 140\n",
      "Data columns (total 6 columns):\n",
      "user_id     135 non-null int64\n",
      "module      135 non-null object\n",
      "num_q       135 non-null int64\n",
      "r_score     135 non-null int64\n",
      "datetime    135 non-null object\n",
      "score       135 non-null float64\n",
      "dtypes: float64(1), int64(3), object(2)\n",
      "memory usage: 7.4+ KB\n"
     ]
    }
   ],
   "source": [
    "# Cleaned dataset\n",
    "df.info()"
   ]
  },
  {
   "cell_type": "code",
   "execution_count": 10,
   "metadata": {},
   "outputs": [
    {
     "data": {
      "text/plain": [
       "36"
      ]
     },
     "execution_count": 10,
     "metadata": {},
     "output_type": "execute_result"
    }
   ],
   "source": [
    "df['user_id'].nunique()"
   ]
  },
  {
   "cell_type": "markdown",
   "metadata": {},
   "source": [
    "The cleaned dataset now contains 135 records and 6 attributes."
   ]
  },
  {
   "cell_type": "code",
   "execution_count": 11,
   "metadata": {},
   "outputs": [
    {
     "data": {
      "text/html": [
       "<div>\n",
       "<style scoped>\n",
       "    .dataframe tbody tr th:only-of-type {\n",
       "        vertical-align: middle;\n",
       "    }\n",
       "\n",
       "    .dataframe tbody tr th {\n",
       "        vertical-align: top;\n",
       "    }\n",
       "\n",
       "    .dataframe thead th {\n",
       "        text-align: right;\n",
       "    }\n",
       "</style>\n",
       "<table border=\"1\" class=\"dataframe\">\n",
       "  <thead>\n",
       "    <tr style=\"text-align: right;\">\n",
       "      <th></th>\n",
       "      <th>user_id</th>\n",
       "      <th>module</th>\n",
       "      <th>num_q</th>\n",
       "      <th>r_score</th>\n",
       "      <th>datetime</th>\n",
       "      <th>score</th>\n",
       "    </tr>\n",
       "  </thead>\n",
       "  <tbody>\n",
       "    <tr>\n",
       "      <th>140</th>\n",
       "      <td>36396689</td>\n",
       "      <td>ANL303</td>\n",
       "      <td>10</td>\n",
       "      <td>5</td>\n",
       "      <td>19/11/2019 14:08</td>\n",
       "      <td>0.500000</td>\n",
       "    </tr>\n",
       "    <tr>\n",
       "      <th>94</th>\n",
       "      <td>459561854</td>\n",
       "      <td>ANL303</td>\n",
       "      <td>10</td>\n",
       "      <td>6</td>\n",
       "      <td>11/11/2019 18:20</td>\n",
       "      <td>0.600000</td>\n",
       "    </tr>\n",
       "    <tr>\n",
       "      <th>95</th>\n",
       "      <td>50347840</td>\n",
       "      <td>ANL303</td>\n",
       "      <td>10</td>\n",
       "      <td>7</td>\n",
       "      <td>11/11/2019 23:45</td>\n",
       "      <td>0.700000</td>\n",
       "    </tr>\n",
       "    <tr>\n",
       "      <th>96</th>\n",
       "      <td>50347840</td>\n",
       "      <td>ANL303</td>\n",
       "      <td>15</td>\n",
       "      <td>14</td>\n",
       "      <td>11/11/2019 23:50</td>\n",
       "      <td>0.933333</td>\n",
       "    </tr>\n",
       "    <tr>\n",
       "      <th>57</th>\n",
       "      <td>245445727</td>\n",
       "      <td>ANL303</td>\n",
       "      <td>20</td>\n",
       "      <td>19</td>\n",
       "      <td>3/11/2019 18:30</td>\n",
       "      <td>0.950000</td>\n",
       "    </tr>\n",
       "  </tbody>\n",
       "</table>\n",
       "</div>"
      ],
      "text/plain": [
       "       user_id  module  num_q  r_score          datetime     score\n",
       "140   36396689  ANL303     10        5  19/11/2019 14:08  0.500000\n",
       "94   459561854  ANL303     10        6  11/11/2019 18:20  0.600000\n",
       "95    50347840  ANL303     10        7  11/11/2019 23:45  0.700000\n",
       "96    50347840  ANL303     15       14  11/11/2019 23:50  0.933333\n",
       "57   245445727  ANL303     20       19   3/11/2019 18:30  0.950000"
      ]
     },
     "execution_count": 11,
     "metadata": {},
     "output_type": "execute_result"
    }
   ],
   "source": [
    "# Sort records by module\n",
    "df=df.sort_values('module')\n",
    "df.head()"
   ]
  },
  {
   "cell_type": "markdown",
   "metadata": {},
   "source": [
    "#### a (ii). Preliminary analysis <br>\n",
    "##### Descriptive statistics of attempts and performance per module\n",
    "\n",
    "The output below shows the number of quiz attempts per module. ANL303 has the greatest number while ANL321 has the lowest, although there is only a difference of 1 between ANL321 and ANL305."
   ]
  },
  {
   "cell_type": "code",
   "execution_count": 12,
   "metadata": {},
   "outputs": [
    {
     "data": {
      "text/plain": [
       "ANL303    50\n",
       "ANL305    43\n",
       "ANL321    42\n",
       "Name: module, dtype: int64"
      ]
     },
     "execution_count": 12,
     "metadata": {},
     "output_type": "execute_result"
    }
   ],
   "source": [
    "# Number of attempts (non-unique) per module\n",
    "df['module'].value_counts()"
   ]
  },
  {
   "cell_type": "code",
   "execution_count": 13,
   "metadata": {},
   "outputs": [
    {
     "data": {
      "text/plain": [
       "<matplotlib.axes._subplots.AxesSubplot at 0x277af8a7c50>"
      ]
     },
     "execution_count": 13,
     "metadata": {},
     "output_type": "execute_result"
    },
    {
     "data": {
      "image/png": "[encoded data removed]",
      "text/plain": [
       "<Figure size 432x288 with 1 Axes>"
      ]
     },
     "metadata": {},
     "output_type": "display_data"
    }
   ],
   "source": [
    "# Bar plot of attempts per module\n",
    "sns.set(style='darkgrid')\n",
    "sns.countplot(x='module',data=df)"
   ]
  },
  {
   "cell_type": "markdown",
   "metadata": {},
   "source": [
    "The table below summarises the quiz performance for each module. Attempts for ANL303 and ANL305 had mean scores of 0.75, while attempts for ANL321 had a mean score of 0.638. The standard deviations between the modules did not vary much.\n",
    "\n",
    "The weaker performance in ANL321 may reflect the inherent difficulty of the module's content, which has a stronger emphasis on theoretical and mathematical concepts. Additionally, ANL305 is practically an extension of ANL303, with a reasonable amount of overlap in content. Thus, it may be expected that performance would be similar between the two.\n",
    "\n",
    "From the box and distribution plots, it is observed that ANL305 contains a few outliers with scores significanlty below the mean. The presence of these extremely low scores suggest that further cleaning of the data may be required."
   ]
  },
  {
   "cell_type": "code",
   "execution_count": 14,
   "metadata": {},
   "outputs": [
    {
     "data": {
      "text/html": [
       "<div>\n",
       "<style scoped>\n",
       "    .dataframe tbody tr th:only-of-type {\n",
       "        vertical-align: middle;\n",
       "    }\n",
       "\n",
       "    .dataframe tbody tr th {\n",
       "        vertical-align: top;\n",
       "    }\n",
       "\n",
       "    .dataframe thead th {\n",
       "        text-align: right;\n",
       "    }\n",
       "</style>\n",
       "<table border=\"1\" class=\"dataframe\">\n",
       "  <thead>\n",
       "    <tr style=\"text-align: right;\">\n",
       "      <th></th>\n",
       "      <th>count</th>\n",
       "      <th>mean</th>\n",
       "      <th>std</th>\n",
       "      <th>min</th>\n",
       "      <th>25%</th>\n",
       "      <th>50%</th>\n",
       "      <th>75%</th>\n",
       "      <th>max</th>\n",
       "    </tr>\n",
       "    <tr>\n",
       "      <th>module</th>\n",
       "      <th></th>\n",
       "      <th></th>\n",
       "      <th></th>\n",
       "      <th></th>\n",
       "      <th></th>\n",
       "      <th></th>\n",
       "      <th></th>\n",
       "      <th></th>\n",
       "    </tr>\n",
       "  </thead>\n",
       "  <tbody>\n",
       "    <tr>\n",
       "      <th>ANL303</th>\n",
       "      <td>50.0</td>\n",
       "      <td>0.751667</td>\n",
       "      <td>0.216346</td>\n",
       "      <td>0.200000</td>\n",
       "      <td>0.6125</td>\n",
       "      <td>0.8</td>\n",
       "      <td>0.900</td>\n",
       "      <td>1.0</td>\n",
       "    </tr>\n",
       "    <tr>\n",
       "      <th>ANL305</th>\n",
       "      <td>43.0</td>\n",
       "      <td>0.753488</td>\n",
       "      <td>0.243447</td>\n",
       "      <td>0.066667</td>\n",
       "      <td>0.7000</td>\n",
       "      <td>0.8</td>\n",
       "      <td>0.925</td>\n",
       "      <td>1.0</td>\n",
       "    </tr>\n",
       "    <tr>\n",
       "      <th>ANL321</th>\n",
       "      <td>42.0</td>\n",
       "      <td>0.638492</td>\n",
       "      <td>0.244020</td>\n",
       "      <td>0.100000</td>\n",
       "      <td>0.5000</td>\n",
       "      <td>0.7</td>\n",
       "      <td>0.800</td>\n",
       "      <td>1.0</td>\n",
       "    </tr>\n",
       "  </tbody>\n",
       "</table>\n",
       "</div>"
      ],
      "text/plain": [
       "        count      mean       std       min     25%  50%    75%  max\n",
       "module                                                              \n",
       "ANL303   50.0  0.751667  0.216346  0.200000  0.6125  0.8  0.900  1.0\n",
       "ANL305   43.0  0.753488  0.243447  0.066667  0.7000  0.8  0.925  1.0\n",
       "ANL321   42.0  0.638492  0.244020  0.100000  0.5000  0.7  0.800  1.0"
      ]
     },
     "execution_count": 14,
     "metadata": {},
     "output_type": "execute_result"
    }
   ],
   "source": [
    "# Summary of quiz performance per module\n",
    "df.groupby('module')['score'].describe()"
   ]
  },
  {
   "cell_type": "code",
   "execution_count": 15,
   "metadata": {},
   "outputs": [
    {
     "data": {
      "text/plain": [
       "<matplotlib.axes._subplots.AxesSubplot at 0x277afbfc320>"
      ]
     },
     "execution_count": 15,
     "metadata": {},
     "output_type": "execute_result"
    },
    {
     "data": {
      "image/png": "[encoded data removed]",
      "text/plain": [
       "<Figure size 432x288 with 1 Axes>"
      ]
     },
     "metadata": {},
     "output_type": "display_data"
    }
   ],
   "source": [
    "# Box plots of quiz performance per module\n",
    "sns.boxplot(x='module',y='score',data=df)"
   ]
  },
  {
   "cell_type": "code",
   "execution_count": 16,
   "metadata": {},
   "outputs": [
    {
     "data": {
      "image/png": "[encoded data removed]",
      "text/plain": [
       "<Figure size 648x216 with 3 Axes>"
      ]
     },
     "metadata": {},
     "output_type": "display_data"
    }
   ],
   "source": [
    "# Distribution plots of quiz performance per module\n",
    "g1 = sns.FacetGrid(df,col='module')\n",
    "g1 = g1.map(plt.hist, 'score')"
   ]
  },
  {
   "cell_type": "markdown",
   "metadata": {},
   "source": [
    "#### a (iii). Data cleaning<br>\n",
    "\n",
    "##### Removing outliers\n",
    "There may be more outliers present in the data than the ones seen in the box plots. Here, the scores have been standardised based on the means and standard deviations of the respective modules. The threshold was set to 99%, corresponding to the critical values of +- 2.576. \n",
    "\n",
    "It was discovered that 2 attempts had z-scores of lower than -2.576. It is possible that users of these attempts chose to end the quiz prematurely, resulting in a low score. This information should be captured in future iterations of the bot in order to differentiate between genuine and incomplete attempts. For the purposes of this report, these attempts were assumed to be incomplete quizzes and were therefore removed."
   ]
  },
  {
   "cell_type": "code",
   "execution_count": 17,
   "metadata": {},
   "outputs": [],
   "source": [
    "from scipy import stats"
   ]
  },
  {
   "cell_type": "code",
   "execution_count": 18,
   "metadata": {},
   "outputs": [],
   "source": [
    "# Convert to z-scores based on means & sd of scores for each module\n",
    "df['z_score'] = df.groupby('module').score.transform(lambda x : stats.zscore(x))"
   ]
  },
  {
   "cell_type": "code",
   "execution_count": 19,
   "metadata": {},
   "outputs": [
    {
     "data": {
      "text/html": [
       "<div>\n",
       "<style scoped>\n",
       "    .dataframe tbody tr th:only-of-type {\n",
       "        vertical-align: middle;\n",
       "    }\n",
       "\n",
       "    .dataframe tbody tr th {\n",
       "        vertical-align: top;\n",
       "    }\n",
       "\n",
       "    .dataframe thead th {\n",
       "        text-align: right;\n",
       "    }\n",
       "</style>\n",
       "<table border=\"1\" class=\"dataframe\">\n",
       "  <thead>\n",
       "    <tr style=\"text-align: right;\">\n",
       "      <th></th>\n",
       "      <th>user_id</th>\n",
       "      <th>module</th>\n",
       "      <th>num_q</th>\n",
       "      <th>r_score</th>\n",
       "      <th>datetime</th>\n",
       "      <th>score</th>\n",
       "      <th>z_score</th>\n",
       "    </tr>\n",
       "  </thead>\n",
       "  <tbody>\n",
       "    <tr>\n",
       "      <th>1</th>\n",
       "      <td>27434070</td>\n",
       "      <td>ANL305</td>\n",
       "      <td>10</td>\n",
       "      <td>1</td>\n",
       "      <td>1/11/2019 19:50</td>\n",
       "      <td>0.100000</td>\n",
       "      <td>-2.716078</td>\n",
       "    </tr>\n",
       "    <tr>\n",
       "      <th>49</th>\n",
       "      <td>254707876</td>\n",
       "      <td>ANL305</td>\n",
       "      <td>15</td>\n",
       "      <td>1</td>\n",
       "      <td>2/11/2019 11:06</td>\n",
       "      <td>0.066667</td>\n",
       "      <td>-2.854621</td>\n",
       "    </tr>\n",
       "  </tbody>\n",
       "</table>\n",
       "</div>"
      ],
      "text/plain": [
       "      user_id  module  num_q  r_score         datetime     score   z_score\n",
       "1    27434070  ANL305     10        1  1/11/2019 19:50  0.100000 -2.716078\n",
       "49  254707876  ANL305     15        1  2/11/2019 11:06  0.066667 -2.854621"
      ]
     },
     "execution_count": 19,
     "metadata": {},
     "output_type": "execute_result"
    }
   ],
   "source": [
    "# Identify outliers at 99% confidence interval\n",
    "outliers = df[df['z_score'].abs() > 2.576]\n",
    "outliers"
   ]
  },
  {
   "cell_type": "code",
   "execution_count": 20,
   "metadata": {},
   "outputs": [],
   "source": [
    "# Remove outliers from df\n",
    "df = df[~df['z_score'].isin(outliers['z_score'])]"
   ]
  },
  {
   "cell_type": "code",
   "execution_count": 21,
   "metadata": {},
   "outputs": [
    {
     "name": "stdout",
     "output_type": "stream",
     "text": [
      "<class 'pandas.core.frame.DataFrame'>\n",
      "Int64Index: 133 entries, 140 to 71\n",
      "Data columns (total 7 columns):\n",
      "user_id     133 non-null int64\n",
      "module      133 non-null object\n",
      "num_q       133 non-null int64\n",
      "r_score     133 non-null int64\n",
      "datetime    133 non-null object\n",
      "score       133 non-null float64\n",
      "z_score     133 non-null float64\n",
      "dtypes: float64(2), int64(3), object(2)\n",
      "memory usage: 8.3+ KB\n"
     ]
    }
   ],
   "source": [
    "df.info()"
   ]
  },
  {
   "cell_type": "markdown",
   "metadata": {},
   "source": [
    "#### b. Adding new attributes: Exam Date & Days left<br>\n",
    "The collection of user data was deliberately limited so as to not hinder the user experience and the bot's primary purpose. This resulted in the small number of attributes of the dataset. However, using some attributes that were implicitly recorded by the bot, we can derive some new feature that may be useful in this analysis.\n",
    "\n",
    "I thought that the number of days left until the exam of the module may be an interesting feature to be imputed here. I hypothesize a negative relationship may be present between the quiz score and number of days left; students would have revised more nearer to the exam date and thus would score better on the quiz.\n",
    "\n",
    "This sub-section explains how this new attribute was derived."
   ]
  },
  {
   "cell_type": "code",
   "execution_count": 22,
   "metadata": {},
   "outputs": [
    {
     "data": {
      "text/html": [
       "<div>\n",
       "<style scoped>\n",
       "    .dataframe tbody tr th:only-of-type {\n",
       "        vertical-align: middle;\n",
       "    }\n",
       "\n",
       "    .dataframe tbody tr th {\n",
       "        vertical-align: top;\n",
       "    }\n",
       "\n",
       "    .dataframe thead th {\n",
       "        text-align: right;\n",
       "    }\n",
       "</style>\n",
       "<table border=\"1\" class=\"dataframe\">\n",
       "  <thead>\n",
       "    <tr style=\"text-align: right;\">\n",
       "      <th></th>\n",
       "      <th>user_id</th>\n",
       "      <th>module</th>\n",
       "      <th>num_q</th>\n",
       "      <th>r_score</th>\n",
       "      <th>datetime</th>\n",
       "      <th>score</th>\n",
       "      <th>z_score</th>\n",
       "      <th>exam_date</th>\n",
       "    </tr>\n",
       "  </thead>\n",
       "  <tbody>\n",
       "    <tr>\n",
       "      <th>140</th>\n",
       "      <td>36396689</td>\n",
       "      <td>ANL303</td>\n",
       "      <td>10</td>\n",
       "      <td>5</td>\n",
       "      <td>19/11/2019 14:08</td>\n",
       "      <td>0.500000</td>\n",
       "      <td>-1.175071</td>\n",
       "      <td>2019-11-12</td>\n",
       "    </tr>\n",
       "    <tr>\n",
       "      <th>94</th>\n",
       "      <td>459561854</td>\n",
       "      <td>ANL303</td>\n",
       "      <td>10</td>\n",
       "      <td>6</td>\n",
       "      <td>11/11/2019 18:20</td>\n",
       "      <td>0.600000</td>\n",
       "      <td>-0.708155</td>\n",
       "      <td>2019-11-12</td>\n",
       "    </tr>\n",
       "    <tr>\n",
       "      <th>95</th>\n",
       "      <td>50347840</td>\n",
       "      <td>ANL303</td>\n",
       "      <td>10</td>\n",
       "      <td>7</td>\n",
       "      <td>11/11/2019 23:45</td>\n",
       "      <td>0.700000</td>\n",
       "      <td>-0.241240</td>\n",
       "      <td>2019-11-12</td>\n",
       "    </tr>\n",
       "    <tr>\n",
       "      <th>96</th>\n",
       "      <td>50347840</td>\n",
       "      <td>ANL303</td>\n",
       "      <td>15</td>\n",
       "      <td>14</td>\n",
       "      <td>11/11/2019 23:50</td>\n",
       "      <td>0.933333</td>\n",
       "      <td>0.848230</td>\n",
       "      <td>2019-11-12</td>\n",
       "    </tr>\n",
       "    <tr>\n",
       "      <th>57</th>\n",
       "      <td>245445727</td>\n",
       "      <td>ANL303</td>\n",
       "      <td>20</td>\n",
       "      <td>19</td>\n",
       "      <td>3/11/2019 18:30</td>\n",
       "      <td>0.950000</td>\n",
       "      <td>0.926049</td>\n",
       "      <td>2019-11-12</td>\n",
       "    </tr>\n",
       "  </tbody>\n",
       "</table>\n",
       "</div>"
      ],
      "text/plain": [
       "       user_id  module  num_q  r_score          datetime     score   z_score  \\\n",
       "140   36396689  ANL303     10        5  19/11/2019 14:08  0.500000 -1.175071   \n",
       "94   459561854  ANL303     10        6  11/11/2019 18:20  0.600000 -0.708155   \n",
       "95    50347840  ANL303     10        7  11/11/2019 23:45  0.700000 -0.241240   \n",
       "96    50347840  ANL303     15       14  11/11/2019 23:50  0.933333  0.848230   \n",
       "57   245445727  ANL303     20       19   3/11/2019 18:30  0.950000  0.926049   \n",
       "\n",
       "      exam_date  \n",
       "140  2019-11-12  \n",
       "94   2019-11-12  \n",
       "95   2019-11-12  \n",
       "96   2019-11-12  \n",
       "57   2019-11-12  "
      ]
     },
     "execution_count": 22,
     "metadata": {},
     "output_type": "execute_result"
    }
   ],
   "source": [
    "# Add new attribute: Exam date\n",
    "exam_date={'ANL303':'2019-11-12','ANL305':'2019-11-19','ANL321':'2019--11-14'}\n",
    "df['exam_date']=df['module'].map(exam_date)\n",
    "df.head()"
   ]
  },
  {
   "cell_type": "code",
   "execution_count": 23,
   "metadata": {},
   "outputs": [
    {
     "data": {
      "text/plain": [
       "dtype('O')"
      ]
     },
     "execution_count": 23,
     "metadata": {},
     "output_type": "execute_result"
    }
   ],
   "source": [
    "# Check type of datetime\n",
    "df.datetime.dtype"
   ]
  },
  {
   "cell_type": "code",
   "execution_count": 24,
   "metadata": {},
   "outputs": [
    {
     "data": {
      "text/html": [
       "<div>\n",
       "<style scoped>\n",
       "    .dataframe tbody tr th:only-of-type {\n",
       "        vertical-align: middle;\n",
       "    }\n",
       "\n",
       "    .dataframe tbody tr th {\n",
       "        vertical-align: top;\n",
       "    }\n",
       "\n",
       "    .dataframe thead th {\n",
       "        text-align: right;\n",
       "    }\n",
       "</style>\n",
       "<table border=\"1\" class=\"dataframe\">\n",
       "  <thead>\n",
       "    <tr style=\"text-align: right;\">\n",
       "      <th></th>\n",
       "      <th>user_id</th>\n",
       "      <th>module</th>\n",
       "      <th>num_q</th>\n",
       "      <th>r_score</th>\n",
       "      <th>datetime</th>\n",
       "      <th>score</th>\n",
       "      <th>z_score</th>\n",
       "      <th>exam_date</th>\n",
       "    </tr>\n",
       "  </thead>\n",
       "  <tbody>\n",
       "    <tr>\n",
       "      <th>140</th>\n",
       "      <td>36396689</td>\n",
       "      <td>ANL303</td>\n",
       "      <td>10</td>\n",
       "      <td>5</td>\n",
       "      <td>2019-11-19 14:08:00</td>\n",
       "      <td>0.500000</td>\n",
       "      <td>-1.175071</td>\n",
       "      <td>2019-11-12</td>\n",
       "    </tr>\n",
       "    <tr>\n",
       "      <th>94</th>\n",
       "      <td>459561854</td>\n",
       "      <td>ANL303</td>\n",
       "      <td>10</td>\n",
       "      <td>6</td>\n",
       "      <td>2019-11-11 18:20:00</td>\n",
       "      <td>0.600000</td>\n",
       "      <td>-0.708155</td>\n",
       "      <td>2019-11-12</td>\n",
       "    </tr>\n",
       "    <tr>\n",
       "      <th>95</th>\n",
       "      <td>50347840</td>\n",
       "      <td>ANL303</td>\n",
       "      <td>10</td>\n",
       "      <td>7</td>\n",
       "      <td>2019-11-11 23:45:00</td>\n",
       "      <td>0.700000</td>\n",
       "      <td>-0.241240</td>\n",
       "      <td>2019-11-12</td>\n",
       "    </tr>\n",
       "    <tr>\n",
       "      <th>96</th>\n",
       "      <td>50347840</td>\n",
       "      <td>ANL303</td>\n",
       "      <td>15</td>\n",
       "      <td>14</td>\n",
       "      <td>2019-11-11 23:50:00</td>\n",
       "      <td>0.933333</td>\n",
       "      <td>0.848230</td>\n",
       "      <td>2019-11-12</td>\n",
       "    </tr>\n",
       "    <tr>\n",
       "      <th>57</th>\n",
       "      <td>245445727</td>\n",
       "      <td>ANL303</td>\n",
       "      <td>20</td>\n",
       "      <td>19</td>\n",
       "      <td>2019-11-03 18:30:00</td>\n",
       "      <td>0.950000</td>\n",
       "      <td>0.926049</td>\n",
       "      <td>2019-11-12</td>\n",
       "    </tr>\n",
       "  </tbody>\n",
       "</table>\n",
       "</div>"
      ],
      "text/plain": [
       "       user_id  module  num_q  r_score            datetime     score  \\\n",
       "140   36396689  ANL303     10        5 2019-11-19 14:08:00  0.500000   \n",
       "94   459561854  ANL303     10        6 2019-11-11 18:20:00  0.600000   \n",
       "95    50347840  ANL303     10        7 2019-11-11 23:45:00  0.700000   \n",
       "96    50347840  ANL303     15       14 2019-11-11 23:50:00  0.933333   \n",
       "57   245445727  ANL303     20       19 2019-11-03 18:30:00  0.950000   \n",
       "\n",
       "      z_score   exam_date  \n",
       "140 -1.175071  2019-11-12  \n",
       "94  -0.708155  2019-11-12  \n",
       "95  -0.241240  2019-11-12  \n",
       "96   0.848230  2019-11-12  \n",
       "57   0.926049  2019-11-12  "
      ]
     },
     "execution_count": 24,
     "metadata": {},
     "output_type": "execute_result"
    }
   ],
   "source": [
    "# Convert dates to timestamp object\n",
    "df['datetime']=pd.to_datetime(df['datetime'],dayfirst=True, yearfirst=False)\n",
    "df.head()"
   ]
  },
  {
   "cell_type": "code",
   "execution_count": 25,
   "metadata": {},
   "outputs": [
    {
     "data": {
      "text/plain": [
       "dtype('<M8[ns]')"
      ]
     },
     "execution_count": 25,
     "metadata": {},
     "output_type": "execute_result"
    }
   ],
   "source": [
    "# Check new type\n",
    "df.datetime.dtype"
   ]
  },
  {
   "cell_type": "code",
   "execution_count": 26,
   "metadata": {},
   "outputs": [],
   "source": [
    "# Split datetime column to date & time\n",
    "df['date']=df['datetime'].apply(lambda t:t.date())\n",
    "df['time']=df['datetime'].apply(lambda t:t.time())"
   ]
  },
  {
   "cell_type": "code",
   "execution_count": 27,
   "metadata": {},
   "outputs": [
    {
     "data": {
      "text/html": [
       "<div>\n",
       "<style scoped>\n",
       "    .dataframe tbody tr th:only-of-type {\n",
       "        vertical-align: middle;\n",
       "    }\n",
       "\n",
       "    .dataframe tbody tr th {\n",
       "        vertical-align: top;\n",
       "    }\n",
       "\n",
       "    .dataframe thead th {\n",
       "        text-align: right;\n",
       "    }\n",
       "</style>\n",
       "<table border=\"1\" class=\"dataframe\">\n",
       "  <thead>\n",
       "    <tr style=\"text-align: right;\">\n",
       "      <th></th>\n",
       "      <th>user_id</th>\n",
       "      <th>module</th>\n",
       "      <th>num_q</th>\n",
       "      <th>r_score</th>\n",
       "      <th>datetime</th>\n",
       "      <th>score</th>\n",
       "      <th>z_score</th>\n",
       "      <th>exam_date</th>\n",
       "      <th>date</th>\n",
       "      <th>time</th>\n",
       "    </tr>\n",
       "  </thead>\n",
       "  <tbody>\n",
       "    <tr>\n",
       "      <th>140</th>\n",
       "      <td>36396689</td>\n",
       "      <td>ANL303</td>\n",
       "      <td>10</td>\n",
       "      <td>5</td>\n",
       "      <td>2019-11-19 14:08:00</td>\n",
       "      <td>0.500000</td>\n",
       "      <td>-1.175071</td>\n",
       "      <td>2019-11-12</td>\n",
       "      <td>2019-11-19</td>\n",
       "      <td>14:08:00</td>\n",
       "    </tr>\n",
       "    <tr>\n",
       "      <th>94</th>\n",
       "      <td>459561854</td>\n",
       "      <td>ANL303</td>\n",
       "      <td>10</td>\n",
       "      <td>6</td>\n",
       "      <td>2019-11-11 18:20:00</td>\n",
       "      <td>0.600000</td>\n",
       "      <td>-0.708155</td>\n",
       "      <td>2019-11-12</td>\n",
       "      <td>2019-11-11</td>\n",
       "      <td>18:20:00</td>\n",
       "    </tr>\n",
       "    <tr>\n",
       "      <th>95</th>\n",
       "      <td>50347840</td>\n",
       "      <td>ANL303</td>\n",
       "      <td>10</td>\n",
       "      <td>7</td>\n",
       "      <td>2019-11-11 23:45:00</td>\n",
       "      <td>0.700000</td>\n",
       "      <td>-0.241240</td>\n",
       "      <td>2019-11-12</td>\n",
       "      <td>2019-11-11</td>\n",
       "      <td>23:45:00</td>\n",
       "    </tr>\n",
       "    <tr>\n",
       "      <th>96</th>\n",
       "      <td>50347840</td>\n",
       "      <td>ANL303</td>\n",
       "      <td>15</td>\n",
       "      <td>14</td>\n",
       "      <td>2019-11-11 23:50:00</td>\n",
       "      <td>0.933333</td>\n",
       "      <td>0.848230</td>\n",
       "      <td>2019-11-12</td>\n",
       "      <td>2019-11-11</td>\n",
       "      <td>23:50:00</td>\n",
       "    </tr>\n",
       "    <tr>\n",
       "      <th>57</th>\n",
       "      <td>245445727</td>\n",
       "      <td>ANL303</td>\n",
       "      <td>20</td>\n",
       "      <td>19</td>\n",
       "      <td>2019-11-03 18:30:00</td>\n",
       "      <td>0.950000</td>\n",
       "      <td>0.926049</td>\n",
       "      <td>2019-11-12</td>\n",
       "      <td>2019-11-03</td>\n",
       "      <td>18:30:00</td>\n",
       "    </tr>\n",
       "  </tbody>\n",
       "</table>\n",
       "</div>"
      ],
      "text/plain": [
       "       user_id  module  num_q  r_score            datetime     score  \\\n",
       "140   36396689  ANL303     10        5 2019-11-19 14:08:00  0.500000   \n",
       "94   459561854  ANL303     10        6 2019-11-11 18:20:00  0.600000   \n",
       "95    50347840  ANL303     10        7 2019-11-11 23:45:00  0.700000   \n",
       "96    50347840  ANL303     15       14 2019-11-11 23:50:00  0.933333   \n",
       "57   245445727  ANL303     20       19 2019-11-03 18:30:00  0.950000   \n",
       "\n",
       "      z_score   exam_date        date      time  \n",
       "140 -1.175071  2019-11-12  2019-11-19  14:08:00  \n",
       "94  -0.708155  2019-11-12  2019-11-11  18:20:00  \n",
       "95  -0.241240  2019-11-12  2019-11-11  23:45:00  \n",
       "96   0.848230  2019-11-12  2019-11-11  23:50:00  \n",
       "57   0.926049  2019-11-12  2019-11-03  18:30:00  "
      ]
     },
     "execution_count": 27,
     "metadata": {},
     "output_type": "execute_result"
    }
   ],
   "source": [
    "df.head()"
   ]
  },
  {
   "cell_type": "code",
   "execution_count": 28,
   "metadata": {},
   "outputs": [],
   "source": [
    "# Convert exam_date column to date objects\n",
    "df['exam_date']=pd.to_datetime(df['exam_date'])\n",
    "df['exam_date']=df['exam_date'].apply(lambda t:t.date())"
   ]
  },
  {
   "cell_type": "code",
   "execution_count": 29,
   "metadata": {},
   "outputs": [
    {
     "data": {
      "text/plain": [
       "dtype('O')"
      ]
     },
     "execution_count": 29,
     "metadata": {},
     "output_type": "execute_result"
    }
   ],
   "source": [
    "df.exam_date.dtype"
   ]
  },
  {
   "cell_type": "code",
   "execution_count": 30,
   "metadata": {},
   "outputs": [
    {
     "data": {
      "text/html": [
       "<div>\n",
       "<style scoped>\n",
       "    .dataframe tbody tr th:only-of-type {\n",
       "        vertical-align: middle;\n",
       "    }\n",
       "\n",
       "    .dataframe tbody tr th {\n",
       "        vertical-align: top;\n",
       "    }\n",
       "\n",
       "    .dataframe thead th {\n",
       "        text-align: right;\n",
       "    }\n",
       "</style>\n",
       "<table border=\"1\" class=\"dataframe\">\n",
       "  <thead>\n",
       "    <tr style=\"text-align: right;\">\n",
       "      <th></th>\n",
       "      <th>user_id</th>\n",
       "      <th>module</th>\n",
       "      <th>num_q</th>\n",
       "      <th>r_score</th>\n",
       "      <th>datetime</th>\n",
       "      <th>score</th>\n",
       "      <th>z_score</th>\n",
       "      <th>exam_date</th>\n",
       "      <th>date</th>\n",
       "      <th>time</th>\n",
       "      <th>days_left</th>\n",
       "    </tr>\n",
       "  </thead>\n",
       "  <tbody>\n",
       "    <tr>\n",
       "      <th>140</th>\n",
       "      <td>36396689</td>\n",
       "      <td>ANL303</td>\n",
       "      <td>10</td>\n",
       "      <td>5</td>\n",
       "      <td>2019-11-19 14:08:00</td>\n",
       "      <td>0.500000</td>\n",
       "      <td>-1.175071</td>\n",
       "      <td>2019-11-12</td>\n",
       "      <td>2019-11-19</td>\n",
       "      <td>14:08:00</td>\n",
       "      <td>-7</td>\n",
       "    </tr>\n",
       "    <tr>\n",
       "      <th>94</th>\n",
       "      <td>459561854</td>\n",
       "      <td>ANL303</td>\n",
       "      <td>10</td>\n",
       "      <td>6</td>\n",
       "      <td>2019-11-11 18:20:00</td>\n",
       "      <td>0.600000</td>\n",
       "      <td>-0.708155</td>\n",
       "      <td>2019-11-12</td>\n",
       "      <td>2019-11-11</td>\n",
       "      <td>18:20:00</td>\n",
       "      <td>1</td>\n",
       "    </tr>\n",
       "    <tr>\n",
       "      <th>95</th>\n",
       "      <td>50347840</td>\n",
       "      <td>ANL303</td>\n",
       "      <td>10</td>\n",
       "      <td>7</td>\n",
       "      <td>2019-11-11 23:45:00</td>\n",
       "      <td>0.700000</td>\n",
       "      <td>-0.241240</td>\n",
       "      <td>2019-11-12</td>\n",
       "      <td>2019-11-11</td>\n",
       "      <td>23:45:00</td>\n",
       "      <td>1</td>\n",
       "    </tr>\n",
       "    <tr>\n",
       "      <th>96</th>\n",
       "      <td>50347840</td>\n",
       "      <td>ANL303</td>\n",
       "      <td>15</td>\n",
       "      <td>14</td>\n",
       "      <td>2019-11-11 23:50:00</td>\n",
       "      <td>0.933333</td>\n",
       "      <td>0.848230</td>\n",
       "      <td>2019-11-12</td>\n",
       "      <td>2019-11-11</td>\n",
       "      <td>23:50:00</td>\n",
       "      <td>1</td>\n",
       "    </tr>\n",
       "    <tr>\n",
       "      <th>57</th>\n",
       "      <td>245445727</td>\n",
       "      <td>ANL303</td>\n",
       "      <td>20</td>\n",
       "      <td>19</td>\n",
       "      <td>2019-11-03 18:30:00</td>\n",
       "      <td>0.950000</td>\n",
       "      <td>0.926049</td>\n",
       "      <td>2019-11-12</td>\n",
       "      <td>2019-11-03</td>\n",
       "      <td>18:30:00</td>\n",
       "      <td>9</td>\n",
       "    </tr>\n",
       "  </tbody>\n",
       "</table>\n",
       "</div>"
      ],
      "text/plain": [
       "       user_id  module  num_q  r_score            datetime     score  \\\n",
       "140   36396689  ANL303     10        5 2019-11-19 14:08:00  0.500000   \n",
       "94   459561854  ANL303     10        6 2019-11-11 18:20:00  0.600000   \n",
       "95    50347840  ANL303     10        7 2019-11-11 23:45:00  0.700000   \n",
       "96    50347840  ANL303     15       14 2019-11-11 23:50:00  0.933333   \n",
       "57   245445727  ANL303     20       19 2019-11-03 18:30:00  0.950000   \n",
       "\n",
       "      z_score   exam_date        date      time  days_left  \n",
       "140 -1.175071  2019-11-12  2019-11-19  14:08:00         -7  \n",
       "94  -0.708155  2019-11-12  2019-11-11  18:20:00          1  \n",
       "95  -0.241240  2019-11-12  2019-11-11  23:45:00          1  \n",
       "96   0.848230  2019-11-12  2019-11-11  23:50:00          1  \n",
       "57   0.926049  2019-11-12  2019-11-03  18:30:00          9  "
      ]
     },
     "execution_count": 30,
     "metadata": {},
     "output_type": "execute_result"
    }
   ],
   "source": [
    "# Derive new variable: days left until exam\n",
    "df['days_left']=df['exam_date']-df['date']\n",
    "df['days_left']=df['days_left'].apply(lambda t:t.days)\n",
    "df.head()"
   ]
  },
  {
   "cell_type": "markdown",
   "metadata": {},
   "source": [
    "The outputs below show summary statistics and a distribution plot of the number of attempts as a function of the number of days left before the module's paper.\n",
    "\n",
    "The telegram bot was released to the BA cohort on 1 Nov 2019. Among the 3 modules, ANL303 was the first paper on 12 Nov and ANL305 was the last paper on 19 Nov. This limits the range of days_ left to be between 0 and 18. \n",
    "\n",
    "The mean number of days left is 6.96, while the mode is 1."
   ]
  },
  {
   "cell_type": "code",
   "execution_count": 31,
   "metadata": {},
   "outputs": [
    {
     "data": {
      "text/plain": [
       "1     27\n",
       "13    21\n",
       "11    18\n",
       "0     12\n",
       "18    11\n",
       "Name: days_left, dtype: int64"
      ]
     },
     "execution_count": 31,
     "metadata": {},
     "output_type": "execute_result"
    }
   ],
   "source": [
    "# Top 5 days of usage\n",
    "df['days_left'].value_counts().head()"
   ]
  },
  {
   "cell_type": "code",
   "execution_count": 32,
   "metadata": {},
   "outputs": [
    {
     "data": {
      "text/plain": [
       "count    133.000000\n",
       "mean       6.969925\n",
       "std        6.030151\n",
       "min       -7.000000\n",
       "25%        1.000000\n",
       "50%        6.000000\n",
       "75%       12.000000\n",
       "max       18.000000\n",
       "Name: days_left, dtype: float64"
      ]
     },
     "execution_count": 32,
     "metadata": {},
     "output_type": "execute_result"
    }
   ],
   "source": [
    "df['days_left'].describe()"
   ]
  },
  {
   "cell_type": "markdown",
   "metadata": {},
   "source": [
    "#### b (i). Removing anomalies in days_left\n",
    "\n",
    "There seemed to be an outlier with the minimum number of days left being -7. This indicates that the quiz attempt was made a week after the paper ended. This record was treated as an anomaly and subsequently removed from the dataset."
   ]
  },
  {
   "cell_type": "code",
   "execution_count": 33,
   "metadata": {},
   "outputs": [
    {
     "data": {
      "text/plain": [
       "<matplotlib.axes._subplots.AxesSubplot at 0x277afde7e80>"
      ]
     },
     "execution_count": 33,
     "metadata": {},
     "output_type": "execute_result"
    },
    {
     "data": {
      "image/png": "[encoded data removed]",
      "text/plain": [
       "<Figure size 432x288 with 1 Axes>"
      ]
     },
     "metadata": {},
     "output_type": "display_data"
    }
   ],
   "source": [
    "# Distribution of days_left\n",
    "sns.distplot(df['days_left'],kde=False, bins=15)"
   ]
  },
  {
   "cell_type": "code",
   "execution_count": 34,
   "metadata": {},
   "outputs": [
    {
     "data": {
      "text/html": [
       "<div>\n",
       "<style scoped>\n",
       "    .dataframe tbody tr th:only-of-type {\n",
       "        vertical-align: middle;\n",
       "    }\n",
       "\n",
       "    .dataframe tbody tr th {\n",
       "        vertical-align: top;\n",
       "    }\n",
       "\n",
       "    .dataframe thead th {\n",
       "        text-align: right;\n",
       "    }\n",
       "</style>\n",
       "<table border=\"1\" class=\"dataframe\">\n",
       "  <thead>\n",
       "    <tr style=\"text-align: right;\">\n",
       "      <th></th>\n",
       "      <th>user_id</th>\n",
       "      <th>module</th>\n",
       "      <th>num_q</th>\n",
       "      <th>r_score</th>\n",
       "      <th>datetime</th>\n",
       "      <th>score</th>\n",
       "      <th>z_score</th>\n",
       "      <th>exam_date</th>\n",
       "      <th>date</th>\n",
       "      <th>time</th>\n",
       "      <th>days_left</th>\n",
       "    </tr>\n",
       "  </thead>\n",
       "  <tbody>\n",
       "    <tr>\n",
       "      <th>140</th>\n",
       "      <td>36396689</td>\n",
       "      <td>ANL303</td>\n",
       "      <td>10</td>\n",
       "      <td>5</td>\n",
       "      <td>2019-11-19 14:08:00</td>\n",
       "      <td>0.5</td>\n",
       "      <td>-1.175071</td>\n",
       "      <td>2019-11-12</td>\n",
       "      <td>2019-11-19</td>\n",
       "      <td>14:08:00</td>\n",
       "      <td>-7</td>\n",
       "    </tr>\n",
       "  </tbody>\n",
       "</table>\n",
       "</div>"
      ],
      "text/plain": [
       "      user_id  module  num_q  r_score            datetime  score   z_score  \\\n",
       "140  36396689  ANL303     10        5 2019-11-19 14:08:00    0.5 -1.175071   \n",
       "\n",
       "      exam_date        date      time  days_left  \n",
       "140  2019-11-12  2019-11-19  14:08:00         -7  "
      ]
     },
     "execution_count": 34,
     "metadata": {},
     "output_type": "execute_result"
    }
   ],
   "source": [
    "# Records of attempts made after paper\n",
    "df[df['days_left'] < 0]"
   ]
  },
  {
   "cell_type": "code",
   "execution_count": 35,
   "metadata": {},
   "outputs": [],
   "source": [
    "df = df[~df['days_left'] < 0]"
   ]
  },
  {
   "cell_type": "markdown",
   "metadata": {},
   "source": [
    "The final version of the dataset now contains 132 records and 11 attributes."
   ]
  },
  {
   "cell_type": "code",
   "execution_count": 36,
   "metadata": {},
   "outputs": [
    {
     "name": "stdout",
     "output_type": "stream",
     "text": [
      "<class 'pandas.core.frame.DataFrame'>\n",
      "Int64Index: 132 entries, 94 to 71\n",
      "Data columns (total 11 columns):\n",
      "user_id      132 non-null int64\n",
      "module       132 non-null object\n",
      "num_q        132 non-null int64\n",
      "r_score      132 non-null int64\n",
      "datetime     132 non-null datetime64[ns]\n",
      "score        132 non-null float64\n",
      "z_score      132 non-null float64\n",
      "exam_date    132 non-null object\n",
      "date         132 non-null object\n",
      "time         132 non-null object\n",
      "days_left    132 non-null int64\n",
      "dtypes: datetime64[ns](1), float64(2), int64(4), object(4)\n",
      "memory usage: 12.4+ KB\n"
     ]
    }
   ],
   "source": [
    "df.info()"
   ]
  },
  {
   "cell_type": "markdown",
   "metadata": {},
   "source": [
    "### 3. Exploratory analysis\n",
    "\n",
    "The following section presents the findings of exploratory analysis on the dataset. Previously stated hypotheses were also tested here albeit not in a statistically rigorous fashion."
   ]
  },
  {
   "cell_type": "markdown",
   "metadata": {},
   "source": [
    "#### a. Usage data\n",
    "\n",
    "The histogram below shows the number of users per day. It is observed that the number of attempts peaked at about 1 day before module's paper."
   ]
  },
  {
   "cell_type": "code",
   "execution_count": 37,
   "metadata": {},
   "outputs": [
    {
     "data": {
      "text/plain": [
       "<matplotlib.axes._subplots.AxesSubplot at 0x277afe9fa58>"
      ]
     },
     "execution_count": 37,
     "metadata": {},
     "output_type": "execute_result"
    },
    {
     "data": {
      "image/png": "[encoded data removed]",
      "text/plain": [
       "<Figure size 432x288 with 1 Axes>"
      ]
     },
     "metadata": {},
     "output_type": "display_data"
    }
   ],
   "source": [
    "# Number of attempts (non-unique) per day\n",
    "sns.distplot(df['days_left'],kde=False,bins=10)"
   ]
  },
  {
   "cell_type": "markdown",
   "metadata": {},
   "source": [
    "The table and heatmap below split the usage data one level further based on the module. The brighter colours on the right-most spots of each module indicate that the usage also peaked when the bot was first released."
   ]
  },
  {
   "cell_type": "code",
   "execution_count": 38,
   "metadata": {},
   "outputs": [
    {
     "data": {
      "text/html": [
       "<div>\n",
       "<style scoped>\n",
       "    .dataframe tbody tr th:only-of-type {\n",
       "        vertical-align: middle;\n",
       "    }\n",
       "\n",
       "    .dataframe tbody tr th {\n",
       "        vertical-align: top;\n",
       "    }\n",
       "\n",
       "    .dataframe thead th {\n",
       "        text-align: right;\n",
       "    }\n",
       "</style>\n",
       "<table border=\"1\" class=\"dataframe\">\n",
       "  <thead>\n",
       "    <tr style=\"text-align: right;\">\n",
       "      <th>days_left</th>\n",
       "      <th>0</th>\n",
       "      <th>1</th>\n",
       "      <th>2</th>\n",
       "      <th>3</th>\n",
       "      <th>4</th>\n",
       "      <th>5</th>\n",
       "      <th>6</th>\n",
       "      <th>7</th>\n",
       "      <th>8</th>\n",
       "      <th>9</th>\n",
       "      <th>10</th>\n",
       "      <th>11</th>\n",
       "      <th>12</th>\n",
       "      <th>13</th>\n",
       "      <th>17</th>\n",
       "      <th>18</th>\n",
       "    </tr>\n",
       "    <tr>\n",
       "      <th>module</th>\n",
       "      <th></th>\n",
       "      <th></th>\n",
       "      <th></th>\n",
       "      <th></th>\n",
       "      <th></th>\n",
       "      <th></th>\n",
       "      <th></th>\n",
       "      <th></th>\n",
       "      <th></th>\n",
       "      <th></th>\n",
       "      <th></th>\n",
       "      <th></th>\n",
       "      <th></th>\n",
       "      <th></th>\n",
       "      <th></th>\n",
       "      <th></th>\n",
       "    </tr>\n",
       "  </thead>\n",
       "  <tbody>\n",
       "    <tr>\n",
       "      <th>ANL303</th>\n",
       "      <td>5.0</td>\n",
       "      <td>15.0</td>\n",
       "      <td>3.0</td>\n",
       "      <td>1.0</td>\n",
       "      <td>3.0</td>\n",
       "      <td>NaN</td>\n",
       "      <td>NaN</td>\n",
       "      <td>NaN</td>\n",
       "      <td>NaN</td>\n",
       "      <td>2.0</td>\n",
       "      <td>2.0</td>\n",
       "      <td>18.0</td>\n",
       "      <td>NaN</td>\n",
       "      <td>NaN</td>\n",
       "      <td>NaN</td>\n",
       "      <td>NaN</td>\n",
       "    </tr>\n",
       "    <tr>\n",
       "      <th>ANL305</th>\n",
       "      <td>3.0</td>\n",
       "      <td>9.0</td>\n",
       "      <td>5.0</td>\n",
       "      <td>5.0</td>\n",
       "      <td>4.0</td>\n",
       "      <td>NaN</td>\n",
       "      <td>NaN</td>\n",
       "      <td>2.0</td>\n",
       "      <td>NaN</td>\n",
       "      <td>NaN</td>\n",
       "      <td>NaN</td>\n",
       "      <td>NaN</td>\n",
       "      <td>1.0</td>\n",
       "      <td>NaN</td>\n",
       "      <td>1.0</td>\n",
       "      <td>11.0</td>\n",
       "    </tr>\n",
       "    <tr>\n",
       "      <th>ANL321</th>\n",
       "      <td>4.0</td>\n",
       "      <td>3.0</td>\n",
       "      <td>2.0</td>\n",
       "      <td>2.0</td>\n",
       "      <td>NaN</td>\n",
       "      <td>1.0</td>\n",
       "      <td>2.0</td>\n",
       "      <td>NaN</td>\n",
       "      <td>3.0</td>\n",
       "      <td>NaN</td>\n",
       "      <td>2.0</td>\n",
       "      <td>NaN</td>\n",
       "      <td>2.0</td>\n",
       "      <td>21.0</td>\n",
       "      <td>NaN</td>\n",
       "      <td>NaN</td>\n",
       "    </tr>\n",
       "  </tbody>\n",
       "</table>\n",
       "</div>"
      ],
      "text/plain": [
       "days_left   0     1    2    3    4    5    6    7    8    9    10    11   12  \\\n",
       "module                                                                         \n",
       "ANL303     5.0  15.0  3.0  1.0  3.0  NaN  NaN  NaN  NaN  2.0  2.0  18.0  NaN   \n",
       "ANL305     3.0   9.0  5.0  5.0  4.0  NaN  NaN  2.0  NaN  NaN  NaN   NaN  1.0   \n",
       "ANL321     4.0   3.0  2.0  2.0  NaN  1.0  2.0  NaN  3.0  NaN  2.0   NaN  2.0   \n",
       "\n",
       "days_left    13   17    18  \n",
       "module                      \n",
       "ANL303      NaN  NaN   NaN  \n",
       "ANL305      NaN  1.0  11.0  \n",
       "ANL321     21.0  NaN   NaN  "
      ]
     },
     "execution_count": 38,
     "metadata": {},
     "output_type": "execute_result"
    }
   ],
   "source": [
    "# Number of attempts per day according to module\n",
    "\n",
    "df2=df.groupby(['module','days_left']).count()['user_id'].unstack()\n",
    "df2"
   ]
  },
  {
   "cell_type": "code",
   "execution_count": 39,
   "metadata": {},
   "outputs": [
    {
     "data": {
      "text/plain": [
       "<matplotlib.axes._subplots.AxesSubplot at 0x277aff2a2b0>"
      ]
     },
     "execution_count": 39,
     "metadata": {},
     "output_type": "execute_result"
    },
    {
     "data": {
      "image/png": "[encoded data removed]",
      "text/plain": [
       "<Figure size 432x288 with 2 Axes>"
      ]
     },
     "metadata": {},
     "output_type": "display_data"
    }
   ],
   "source": [
    "sns.heatmap(df2,cmap='viridis')"
   ]
  },
  {
   "cell_type": "markdown",
   "metadata": {},
   "source": [
    "#### b. Performance data"
   ]
  },
  {
   "cell_type": "markdown",
   "metadata": {},
   "source": [
    "####  b (i). Preliminary analysis\n",
    "\n",
    "Referring to the table and heatmap below, we observe a general improvement in scores for ANL303 as the days left approaches 0. This pattern is less prominent in ANL305 and even less so in ANL321."
   ]
  },
  {
   "cell_type": "code",
   "execution_count": 40,
   "metadata": {},
   "outputs": [
    {
     "data": {
      "text/html": [
       "<div>\n",
       "<style scoped>\n",
       "    .dataframe tbody tr th:only-of-type {\n",
       "        vertical-align: middle;\n",
       "    }\n",
       "\n",
       "    .dataframe tbody tr th {\n",
       "        vertical-align: top;\n",
       "    }\n",
       "\n",
       "    .dataframe thead th {\n",
       "        text-align: right;\n",
       "    }\n",
       "</style>\n",
       "<table border=\"1\" class=\"dataframe\">\n",
       "  <thead>\n",
       "    <tr style=\"text-align: right;\">\n",
       "      <th>days_left</th>\n",
       "      <th>0</th>\n",
       "      <th>1</th>\n",
       "      <th>2</th>\n",
       "      <th>3</th>\n",
       "      <th>4</th>\n",
       "      <th>5</th>\n",
       "      <th>6</th>\n",
       "      <th>7</th>\n",
       "      <th>8</th>\n",
       "      <th>9</th>\n",
       "      <th>10</th>\n",
       "      <th>11</th>\n",
       "      <th>12</th>\n",
       "      <th>13</th>\n",
       "      <th>17</th>\n",
       "      <th>18</th>\n",
       "    </tr>\n",
       "    <tr>\n",
       "      <th>module</th>\n",
       "      <th></th>\n",
       "      <th></th>\n",
       "      <th></th>\n",
       "      <th></th>\n",
       "      <th></th>\n",
       "      <th></th>\n",
       "      <th></th>\n",
       "      <th></th>\n",
       "      <th></th>\n",
       "      <th></th>\n",
       "      <th></th>\n",
       "      <th></th>\n",
       "      <th></th>\n",
       "      <th></th>\n",
       "      <th></th>\n",
       "      <th></th>\n",
       "    </tr>\n",
       "  </thead>\n",
       "  <tbody>\n",
       "    <tr>\n",
       "      <th>ANL303</th>\n",
       "      <td>0.940000</td>\n",
       "      <td>0.828889</td>\n",
       "      <td>0.816667</td>\n",
       "      <td>1.00</td>\n",
       "      <td>0.783333</td>\n",
       "      <td>NaN</td>\n",
       "      <td>NaN</td>\n",
       "      <td>NaN</td>\n",
       "      <td>NaN</td>\n",
       "      <td>0.775</td>\n",
       "      <td>0.65</td>\n",
       "      <td>0.627778</td>\n",
       "      <td>NaN</td>\n",
       "      <td>NaN</td>\n",
       "      <td>NaN</td>\n",
       "      <td>NaN</td>\n",
       "    </tr>\n",
       "    <tr>\n",
       "      <th>ANL305</th>\n",
       "      <td>0.661111</td>\n",
       "      <td>0.905556</td>\n",
       "      <td>0.930000</td>\n",
       "      <td>0.92</td>\n",
       "      <td>0.750000</td>\n",
       "      <td>NaN</td>\n",
       "      <td>NaN</td>\n",
       "      <td>0.45</td>\n",
       "      <td>NaN</td>\n",
       "      <td>NaN</td>\n",
       "      <td>NaN</td>\n",
       "      <td>NaN</td>\n",
       "      <td>0.2</td>\n",
       "      <td>NaN</td>\n",
       "      <td>0.9</td>\n",
       "      <td>0.713636</td>\n",
       "    </tr>\n",
       "    <tr>\n",
       "      <th>ANL321</th>\n",
       "      <td>0.700000</td>\n",
       "      <td>0.816667</td>\n",
       "      <td>0.400000</td>\n",
       "      <td>0.75</td>\n",
       "      <td>NaN</td>\n",
       "      <td>0.8</td>\n",
       "      <td>0.65</td>\n",
       "      <td>NaN</td>\n",
       "      <td>0.6</td>\n",
       "      <td>NaN</td>\n",
       "      <td>0.75</td>\n",
       "      <td>NaN</td>\n",
       "      <td>0.6</td>\n",
       "      <td>0.603175</td>\n",
       "      <td>NaN</td>\n",
       "      <td>NaN</td>\n",
       "    </tr>\n",
       "  </tbody>\n",
       "</table>\n",
       "</div>"
      ],
      "text/plain": [
       "days_left        0         1         2     3         4    5     6     7    8   \\\n",
       "module                                                                          \n",
       "ANL303     0.940000  0.828889  0.816667  1.00  0.783333  NaN   NaN   NaN  NaN   \n",
       "ANL305     0.661111  0.905556  0.930000  0.92  0.750000  NaN   NaN  0.45  NaN   \n",
       "ANL321     0.700000  0.816667  0.400000  0.75       NaN  0.8  0.65   NaN  0.6   \n",
       "\n",
       "days_left     9     10        11   12        13   17        18  \n",
       "module                                                          \n",
       "ANL303     0.775  0.65  0.627778  NaN       NaN  NaN       NaN  \n",
       "ANL305       NaN   NaN       NaN  0.2       NaN  0.9  0.713636  \n",
       "ANL321       NaN  0.75       NaN  0.6  0.603175  NaN       NaN  "
      ]
     },
     "execution_count": 40,
     "metadata": {},
     "output_type": "execute_result"
    }
   ],
   "source": [
    "# Mean scores per day according to module\n",
    "\n",
    "df3=df.groupby(['module','days_left']).mean()['score'].unstack()\n",
    "df3"
   ]
  },
  {
   "cell_type": "code",
   "execution_count": 41,
   "metadata": {},
   "outputs": [
    {
     "data": {
      "text/plain": [
       "<matplotlib.axes._subplots.AxesSubplot at 0x277affd32b0>"
      ]
     },
     "execution_count": 41,
     "metadata": {},
     "output_type": "execute_result"
    },
    {
     "data": {
      "image/png": "[encoded data removed]",
      "text/plain": [
       "<Figure size 432x288 with 2 Axes>"
      ]
     },
     "metadata": {},
     "output_type": "display_data"
    }
   ],
   "source": [
    "# Heatmap of mean scores per day according to module\n",
    "sns.heatmap(df3,cmap='viridis')"
   ]
  },
  {
   "cell_type": "markdown",
   "metadata": {},
   "source": [
    "#### b (ii). Relationship between days left and score\n",
    "\n",
    "I had previously hypothesized that quiz attempts made closer to the exam date will have higher scores than those made earlier. The correlation analysis revealed an correlation coefficient of -0.3514 between the two variables. This provides support for the existence of a negative relationship between days left and quiz performance. <br><br>\n",
    "\n",
    "*It should be noted that proper hypothesis testing demands the use of more rigorous procedures. The analysis included in this report are exploratory in nature and does not aim to establish any conclusions from the data."
   ]
  },
  {
   "cell_type": "code",
   "execution_count": 42,
   "metadata": {},
   "outputs": [
    {
     "data": {
      "text/plain": [
       "-0.35141896390614824"
      ]
     },
     "execution_count": 42,
     "metadata": {},
     "output_type": "execute_result"
    }
   ],
   "source": [
    "# Computing correlatio between days left & score\n",
    "df['days_left'].corr(df['score'])"
   ]
  },
  {
   "cell_type": "code",
   "execution_count": 43,
   "metadata": {},
   "outputs": [
    {
     "data": {
      "text/plain": [
       "<seaborn.axisgrid.JointGrid at 0x277b006c4e0>"
      ]
     },
     "execution_count": 43,
     "metadata": {},
     "output_type": "execute_result"
    },
    {
     "data": {
      "image/png": "[encoded data removed]",
      "text/plain": [
       "<Figure size 432x432 with 3 Axes>"
      ]
     },
     "metadata": {},
     "output_type": "display_data"
    }
   ],
   "source": [
    "# Scatter plot of days left and score\n",
    "sns.jointplot(x='days_left',y='score',data=df,kind='reg')"
   ]
  },
  {
   "cell_type": "markdown",
   "metadata": {},
   "source": [
    "#### c. Performance data according to user type<br>\n",
    "\n",
    "When looking at the user data, I noticed that there were a handful of user ids (out of the 34 unique users) that were frequent users of the bot. "
   ]
  },
  {
   "cell_type": "code",
   "execution_count": 44,
   "metadata": {},
   "outputs": [
    {
     "data": {
      "text/plain": [
       "<matplotlib.axes._subplots.AxesSubplot at 0x277b058c358>"
      ]
     },
     "execution_count": 44,
     "metadata": {},
     "output_type": "execute_result"
    },
    {
     "data": {
      "image/png": "[encoded data removed]",
      "text/plain": [
       "<Figure size 432x288 with 1 Axes>"
      ]
     },
     "metadata": {},
     "output_type": "display_data"
    }
   ],
   "source": [
    "# Distribution of usage (no. of times)\n",
    "\n",
    "all_users = pd.DataFrame(df['user_id'].value_counts())\n",
    "all_users.rename(columns={'user_id':'attempts'}, inplace=True)\n",
    "sns.distplot(all_users['attempts'],kde=False,bins=10)"
   ]
  },
  {
   "cell_type": "code",
   "execution_count": 45,
   "metadata": {},
   "outputs": [
    {
     "data": {
      "text/html": [
       "<div>\n",
       "<style scoped>\n",
       "    .dataframe tbody tr th:only-of-type {\n",
       "        vertical-align: middle;\n",
       "    }\n",
       "\n",
       "    .dataframe tbody tr th {\n",
       "        vertical-align: top;\n",
       "    }\n",
       "\n",
       "    .dataframe thead th {\n",
       "        text-align: right;\n",
       "    }\n",
       "</style>\n",
       "<table border=\"1\" class=\"dataframe\">\n",
       "  <thead>\n",
       "    <tr style=\"text-align: right;\">\n",
       "      <th></th>\n",
       "      <th>attempts</th>\n",
       "    </tr>\n",
       "  </thead>\n",
       "  <tbody>\n",
       "    <tr>\n",
       "      <th>401749345</th>\n",
       "      <td>28</td>\n",
       "    </tr>\n",
       "    <tr>\n",
       "      <th>142406316</th>\n",
       "      <td>11</td>\n",
       "    </tr>\n",
       "    <tr>\n",
       "      <th>656956327</th>\n",
       "      <td>9</td>\n",
       "    </tr>\n",
       "    <tr>\n",
       "      <th>245445727</th>\n",
       "      <td>9</td>\n",
       "    </tr>\n",
       "    <tr>\n",
       "      <th>657189766</th>\n",
       "      <td>8</td>\n",
       "    </tr>\n",
       "  </tbody>\n",
       "</table>\n",
       "</div>"
      ],
      "text/plain": [
       "           attempts\n",
       "401749345        28\n",
       "142406316        11\n",
       "656956327         9\n",
       "245445727         9\n",
       "657189766         8"
      ]
     },
     "execution_count": 45,
     "metadata": {},
     "output_type": "execute_result"
    }
   ],
   "source": [
    "all_users.head()"
   ]
  },
  {
   "cell_type": "markdown",
   "metadata": {},
   "source": [
    "Of the 34 unique users, 9 were regular and 25 were non-regular.\n",
    "\n",
    "The 9 regular users had a combined total of 88 attempts between them, accounting for 66% of the total number of attempts. "
   ]
  },
  {
   "cell_type": "code",
   "execution_count": 46,
   "metadata": {},
   "outputs": [],
   "source": [
    "# Extract user_id of regular users into list (used bot at least 5 times)\n",
    "\n",
    "reg_users=pd.DataFrame(all_users[all_users['attempts']>=5].reset_index())\n",
    "reg_users_id = reg_users['index'].to_list()"
   ]
  },
  {
   "cell_type": "code",
   "execution_count": 47,
   "metadata": {},
   "outputs": [
    {
     "data": {
      "text/plain": [
       "25"
      ]
     },
     "execution_count": 47,
     "metadata": {},
     "output_type": "execute_result"
    }
   ],
   "source": [
    "# Number of non-regular users\n",
    "len(all_users) - len(reg_users)"
   ]
  },
  {
   "cell_type": "markdown",
   "metadata": {},
   "source": [
    "#### c (i). Performance of regular users<br>\n",
    "\n",
    "According to the output below, the mean score for regular users (across all modules) was 0.7708 with a standard deviation of 0.2173. \n",
    "\n",
    "The distribution plot reveals a pronounced negative skew, indicating that a great proportion of attempts by these users resulted in high scores."
   ]
  },
  {
   "cell_type": "code",
   "execution_count": 48,
   "metadata": {},
   "outputs": [
    {
     "name": "stdout",
     "output_type": "stream",
     "text": [
      "<class 'pandas.core.frame.DataFrame'>\n",
      "Int64Index: 88 entries, 95 to 71\n",
      "Data columns (total 11 columns):\n",
      "user_id      88 non-null int64\n",
      "module       88 non-null object\n",
      "num_q        88 non-null int64\n",
      "r_score      88 non-null int64\n",
      "datetime     88 non-null datetime64[ns]\n",
      "score        88 non-null float64\n",
      "z_score      88 non-null float64\n",
      "exam_date    88 non-null object\n",
      "date         88 non-null object\n",
      "time         88 non-null object\n",
      "days_left    88 non-null int64\n",
      "dtypes: datetime64[ns](1), float64(2), int64(4), object(4)\n",
      "memory usage: 8.2+ KB\n"
     ]
    }
   ],
   "source": [
    "# Subset of df for regular users\n",
    "df_reg_users = df[df['user_id'].isin(reg_users_id)]\n",
    "df_reg_users.info()"
   ]
  },
  {
   "cell_type": "code",
   "execution_count": 49,
   "metadata": {},
   "outputs": [
    {
     "data": {
      "text/plain": [
       "count    88.000000\n",
       "mean      0.770833\n",
       "std       0.217266\n",
       "min       0.100000\n",
       "25%       0.700000\n",
       "50%       0.800000\n",
       "75%       0.950000\n",
       "max       1.000000\n",
       "Name: score, dtype: float64"
      ]
     },
     "execution_count": 49,
     "metadata": {},
     "output_type": "execute_result"
    }
   ],
   "source": [
    "# Summary statistics of regular users\n",
    "df_reg_users['score'].describe()"
   ]
  },
  {
   "cell_type": "code",
   "execution_count": 50,
   "metadata": {},
   "outputs": [
    {
     "data": {
      "text/plain": [
       "<matplotlib.axes._subplots.AxesSubplot at 0x277b0642da0>"
      ]
     },
     "execution_count": 50,
     "metadata": {},
     "output_type": "execute_result"
    },
    {
     "data": {
      "image/png": "[encoded data removed]",
      "text/plain": [
       "<Figure size 432x288 with 1 Axes>"
      ]
     },
     "metadata": {},
     "output_type": "display_data"
    }
   ],
   "source": [
    "# Distribution of scores of regular users\n",
    "sns.distplot(df_reg_users['score'],kde=False, bins=10)"
   ]
  },
  {
   "cell_type": "markdown",
   "metadata": {},
   "source": [
    "The summary statistics table, distribtuions and box plots show that on average, regular users tend to perform better for ANL303 (0.7984) and ANL305 (0.8253) compared to ANL321 (0.684)\n",
    "\n",
    "The spread in the scores for ANL321 (0.22489) was also greater than the other 2 modules (ANL303 sd = 0.2097, ANL305 sd = 0.1717)."
   ]
  },
  {
   "cell_type": "code",
   "execution_count": 51,
   "metadata": {},
   "outputs": [
    {
     "data": {
      "text/html": [
       "<div>\n",
       "<style scoped>\n",
       "    .dataframe tbody tr th:only-of-type {\n",
       "        vertical-align: middle;\n",
       "    }\n",
       "\n",
       "    .dataframe tbody tr th {\n",
       "        vertical-align: top;\n",
       "    }\n",
       "\n",
       "    .dataframe thead th {\n",
       "        text-align: right;\n",
       "    }\n",
       "</style>\n",
       "<table border=\"1\" class=\"dataframe\">\n",
       "  <thead>\n",
       "    <tr style=\"text-align: right;\">\n",
       "      <th></th>\n",
       "      <th>count</th>\n",
       "      <th>mean</th>\n",
       "      <th>std</th>\n",
       "      <th>min</th>\n",
       "      <th>25%</th>\n",
       "      <th>50%</th>\n",
       "      <th>75%</th>\n",
       "      <th>max</th>\n",
       "    </tr>\n",
       "    <tr>\n",
       "      <th>module</th>\n",
       "      <th></th>\n",
       "      <th></th>\n",
       "      <th></th>\n",
       "      <th></th>\n",
       "      <th></th>\n",
       "      <th></th>\n",
       "      <th></th>\n",
       "      <th></th>\n",
       "    </tr>\n",
       "  </thead>\n",
       "  <tbody>\n",
       "    <tr>\n",
       "      <th>ANL303</th>\n",
       "      <td>32.0</td>\n",
       "      <td>0.794792</td>\n",
       "      <td>0.209601</td>\n",
       "      <td>0.2</td>\n",
       "      <td>0.65</td>\n",
       "      <td>0.875</td>\n",
       "      <td>0.9625</td>\n",
       "      <td>1.0</td>\n",
       "    </tr>\n",
       "    <tr>\n",
       "      <th>ANL305</th>\n",
       "      <td>29.0</td>\n",
       "      <td>0.825287</td>\n",
       "      <td>0.171745</td>\n",
       "      <td>0.4</td>\n",
       "      <td>0.70</td>\n",
       "      <td>0.900</td>\n",
       "      <td>1.0000</td>\n",
       "      <td>1.0</td>\n",
       "    </tr>\n",
       "    <tr>\n",
       "      <th>ANL321</th>\n",
       "      <td>27.0</td>\n",
       "      <td>0.683951</td>\n",
       "      <td>0.248907</td>\n",
       "      <td>0.1</td>\n",
       "      <td>0.65</td>\n",
       "      <td>0.800</td>\n",
       "      <td>0.8000</td>\n",
       "      <td>1.0</td>\n",
       "    </tr>\n",
       "  </tbody>\n",
       "</table>\n",
       "</div>"
      ],
      "text/plain": [
       "        count      mean       std  min   25%    50%     75%  max\n",
       "module                                                          \n",
       "ANL303   32.0  0.794792  0.209601  0.2  0.65  0.875  0.9625  1.0\n",
       "ANL305   29.0  0.825287  0.171745  0.4  0.70  0.900  1.0000  1.0\n",
       "ANL321   27.0  0.683951  0.248907  0.1  0.65  0.800  0.8000  1.0"
      ]
     },
     "execution_count": 51,
     "metadata": {},
     "output_type": "execute_result"
    }
   ],
   "source": [
    "# Summary statistics of regular users' scores according to module\n",
    "\n",
    "df_reg_users.groupby('module')['score'].describe()"
   ]
  },
  {
   "cell_type": "code",
   "execution_count": 52,
   "metadata": {},
   "outputs": [
    {
     "data": {
      "image/png": "[encoded data removed]",
      "text/plain": [
       "<Figure size 648x216 with 3 Axes>"
      ]
     },
     "metadata": {},
     "output_type": "display_data"
    }
   ],
   "source": [
    "# Distribution of scores of regular users according to module\n",
    "\n",
    "g2 = sns.FacetGrid(df_reg_users,col='module',hue='module')\n",
    "g2 = g2.map(sns.distplot, 'score')"
   ]
  },
  {
   "cell_type": "code",
   "execution_count": 53,
   "metadata": {},
   "outputs": [
    {
     "data": {
      "text/plain": [
       "<matplotlib.axes._subplots.AxesSubplot at 0x277b07fb898>"
      ]
     },
     "execution_count": 53,
     "metadata": {},
     "output_type": "execute_result"
    },
    {
     "data": {
      "image/png": "[encoded data removed]",
      "text/plain": [
       "<Figure size 432x288 with 1 Axes>"
      ]
     },
     "metadata": {},
     "output_type": "display_data"
    }
   ],
   "source": [
    "# Box plots of scores of regular users according to module\n",
    "\n",
    "sns.boxplot(x='module', y='score',data=df_reg_users)"
   ]
  },
  {
   "cell_type": "markdown",
   "metadata": {},
   "source": [
    "#### c (ii). Relationship between regular users' scores and days left \n",
    "\n",
    "The scatter plot displays a regression line with a downward slope with an $R^{2}$ value of -0.4472. This provides support for the hypothesized relationship."
   ]
  },
  {
   "cell_type": "code",
   "execution_count": 54,
   "metadata": {},
   "outputs": [
    {
     "data": {
      "text/html": [
       "<div>\n",
       "<style scoped>\n",
       "    .dataframe tbody tr th:only-of-type {\n",
       "        vertical-align: middle;\n",
       "    }\n",
       "\n",
       "    .dataframe tbody tr th {\n",
       "        vertical-align: top;\n",
       "    }\n",
       "\n",
       "    .dataframe thead th {\n",
       "        text-align: right;\n",
       "    }\n",
       "</style>\n",
       "<table border=\"1\" class=\"dataframe\">\n",
       "  <thead>\n",
       "    <tr style=\"text-align: right;\">\n",
       "      <th></th>\n",
       "      <th>score</th>\n",
       "      <th>days_left</th>\n",
       "    </tr>\n",
       "  </thead>\n",
       "  <tbody>\n",
       "    <tr>\n",
       "      <th>score</th>\n",
       "      <td>1.000000</td>\n",
       "      <td>-0.447175</td>\n",
       "    </tr>\n",
       "    <tr>\n",
       "      <th>days_left</th>\n",
       "      <td>-0.447175</td>\n",
       "      <td>1.000000</td>\n",
       "    </tr>\n",
       "  </tbody>\n",
       "</table>\n",
       "</div>"
      ],
      "text/plain": [
       "              score  days_left\n",
       "score      1.000000  -0.447175\n",
       "days_left -0.447175   1.000000"
      ]
     },
     "execution_count": 54,
     "metadata": {},
     "output_type": "execute_result"
    }
   ],
   "source": [
    "# Correlation between regular users' scores and days left \n",
    "df_reg_users[['score','days_left']].corr()"
   ]
  },
  {
   "cell_type": "code",
   "execution_count": 55,
   "metadata": {},
   "outputs": [
    {
     "data": {
      "text/plain": [
       "<seaborn.axisgrid.JointGrid at 0x277b0879748>"
      ]
     },
     "execution_count": 55,
     "metadata": {},
     "output_type": "execute_result"
    },
    {
     "data": {
      "image/png": "[encoded data removed]",
      "text/plain": [
       "<Figure size 432x432 with 3 Axes>"
      ]
     },
     "metadata": {},
     "output_type": "display_data"
    }
   ],
   "source": [
    "# Relationship between days left and scores of regular users\n",
    "sns.jointplot(x ='days_left',y='score',data=df_reg_users, kind='reg')"
   ]
  },
  {
   "cell_type": "markdown",
   "metadata": {},
   "source": [
    "The relationship between days left and scores also differed between modules. Looking at the regression plots below, there is a much steeper slope for ANL303 and ANL305 compared to ANL321, in which the regression line is much flatter. This indicates that having more time to revise ANL321 did not lead to a great improvement of scores. \n",
    "\n",
    "One explanation could be the difference in exam schedules. Most BA students were also taking the FIN203 paper on the same day as ANL321. ANL303 and ANL305 were the only BA papers on their respective dates. Thus, students would have had to allocate their time to revise for another module which could explain the lack of improvement in scores in ANL321."
   ]
  },
  {
   "cell_type": "code",
   "execution_count": 56,
   "metadata": {},
   "outputs": [
    {
     "data": {
      "image/png": "[encoded data removed]",
      "text/plain": [
       "<Figure size 648x216 with 3 Axes>"
      ]
     },
     "metadata": {},
     "output_type": "display_data"
    }
   ],
   "source": [
    "# Relationship between days left and score of regular users according to module.\n",
    "\n",
    "g3 = sns.FacetGrid(df_reg_users,col='module',hue='module')\n",
    "g3 = g3.map(sns.regplot, 'days_left','score')"
   ]
  },
  {
   "cell_type": "markdown",
   "metadata": {},
   "source": [
    "#### c (iii). Non-regular users <br>\n",
    "\n",
    "Users who had attempted fewer than 5 quizzes were labelled as non-regular. There were 25 unique non-regular users with  a combined total of 44 attempts made between them."
   ]
  },
  {
   "cell_type": "code",
   "execution_count": 57,
   "metadata": {},
   "outputs": [
    {
     "name": "stdout",
     "output_type": "stream",
     "text": [
      "<class 'pandas.core.frame.DataFrame'>\n",
      "Int64Index: 44 entries, 94 to 45\n",
      "Data columns (total 11 columns):\n",
      "user_id      44 non-null int64\n",
      "module       44 non-null object\n",
      "num_q        44 non-null int64\n",
      "r_score      44 non-null int64\n",
      "datetime     44 non-null datetime64[ns]\n",
      "score        44 non-null float64\n",
      "z_score      44 non-null float64\n",
      "exam_date    44 non-null object\n",
      "date         44 non-null object\n",
      "time         44 non-null object\n",
      "days_left    44 non-null int64\n",
      "dtypes: datetime64[ns](1), float64(2), int64(4), object(4)\n",
      "memory usage: 4.1+ KB\n"
     ]
    }
   ],
   "source": [
    "# Extract attempts made by non-regular users\n",
    "df_non_reg_users=df[~df['user_id'].isin(reg_users_id)]\n",
    "df_non_reg_users.info()"
   ]
  },
  {
   "cell_type": "code",
   "execution_count": 58,
   "metadata": {},
   "outputs": [
    {
     "data": {
      "text/plain": [
       "25"
      ]
     },
     "execution_count": 58,
     "metadata": {},
     "output_type": "execute_result"
    }
   ],
   "source": [
    "# Number of non-regular users\n",
    "df_non_reg_users['user_id'].nunique()"
   ]
  },
  {
   "cell_type": "markdown",
   "metadata": {},
   "source": [
    "#### c (iv). Performance of non-regular users\n",
    "\n",
    "According to the output below, the mean score for non-regular users across all modules was 0.6432 with a standard deviation of 0.2235. This is a lower average score and a higher spread compared to the regular users.\n",
    "\n",
    "A negative skew can also be observed in the distribution plot."
   ]
  },
  {
   "cell_type": "code",
   "execution_count": 59,
   "metadata": {},
   "outputs": [
    {
     "data": {
      "text/plain": [
       "count    44.000000\n",
       "mean      0.643182\n",
       "std       0.223500\n",
       "min       0.200000\n",
       "25%       0.500000\n",
       "50%       0.700000\n",
       "75%       0.800000\n",
       "max       1.000000\n",
       "Name: score, dtype: float64"
      ]
     },
     "execution_count": 59,
     "metadata": {},
     "output_type": "execute_result"
    }
   ],
   "source": [
    "# Summary statistics of non-regular users\n",
    "df_non_reg_users['score'].describe()"
   ]
  },
  {
   "cell_type": "code",
   "execution_count": 60,
   "metadata": {},
   "outputs": [
    {
     "data": {
      "text/plain": [
       "<matplotlib.axes._subplots.AxesSubplot at 0x277b1a32b70>"
      ]
     },
     "execution_count": 60,
     "metadata": {},
     "output_type": "execute_result"
    },
    {
     "data": {
      "image/png": "[encoded data removed]",
      "text/plain": [
       "<Figure size 432x288 with 1 Axes>"
      ]
     },
     "metadata": {},
     "output_type": "display_data"
    }
   ],
   "source": [
    "sns.distplot(df_non_reg_users['score'])"
   ]
  },
  {
   "cell_type": "markdown",
   "metadata": {},
   "source": [
    "Non-regular users performed worse than regular users with a mean difference of 0.1 across all modules. \n",
    "\n",
    "Interestingly, we observe the same pattern as with the regular users in which students performed better for ANL303 and ANL305 compared to ANL321. The spread in the scores however did not vary much between modules."
   ]
  },
  {
   "cell_type": "code",
   "execution_count": 61,
   "metadata": {},
   "outputs": [
    {
     "data": {
      "text/html": [
       "<div>\n",
       "<style scoped>\n",
       "    .dataframe tbody tr th:only-of-type {\n",
       "        vertical-align: middle;\n",
       "    }\n",
       "\n",
       "    .dataframe tbody tr th {\n",
       "        vertical-align: top;\n",
       "    }\n",
       "\n",
       "    .dataframe thead th {\n",
       "        text-align: right;\n",
       "    }\n",
       "</style>\n",
       "<table border=\"1\" class=\"dataframe\">\n",
       "  <thead>\n",
       "    <tr style=\"text-align: right;\">\n",
       "      <th></th>\n",
       "      <th>count</th>\n",
       "      <th>mean</th>\n",
       "      <th>std</th>\n",
       "      <th>min</th>\n",
       "      <th>25%</th>\n",
       "      <th>50%</th>\n",
       "      <th>75%</th>\n",
       "      <th>max</th>\n",
       "    </tr>\n",
       "    <tr>\n",
       "      <th>module</th>\n",
       "      <th></th>\n",
       "      <th></th>\n",
       "      <th></th>\n",
       "      <th></th>\n",
       "      <th></th>\n",
       "      <th></th>\n",
       "      <th></th>\n",
       "      <th></th>\n",
       "    </tr>\n",
       "  </thead>\n",
       "  <tbody>\n",
       "    <tr>\n",
       "      <th>ANL303</th>\n",
       "      <td>17.0</td>\n",
       "      <td>0.685294</td>\n",
       "      <td>0.214159</td>\n",
       "      <td>0.2</td>\n",
       "      <td>0.60</td>\n",
       "      <td>0.80</td>\n",
       "      <td>0.800</td>\n",
       "      <td>0.9</td>\n",
       "    </tr>\n",
       "    <tr>\n",
       "      <th>ANL305</th>\n",
       "      <td>12.0</td>\n",
       "      <td>0.691667</td>\n",
       "      <td>0.227470</td>\n",
       "      <td>0.2</td>\n",
       "      <td>0.65</td>\n",
       "      <td>0.70</td>\n",
       "      <td>0.825</td>\n",
       "      <td>1.0</td>\n",
       "    </tr>\n",
       "    <tr>\n",
       "      <th>ANL321</th>\n",
       "      <td>15.0</td>\n",
       "      <td>0.556667</td>\n",
       "      <td>0.219469</td>\n",
       "      <td>0.2</td>\n",
       "      <td>0.45</td>\n",
       "      <td>0.55</td>\n",
       "      <td>0.750</td>\n",
       "      <td>0.9</td>\n",
       "    </tr>\n",
       "  </tbody>\n",
       "</table>\n",
       "</div>"
      ],
      "text/plain": [
       "        count      mean       std  min   25%   50%    75%  max\n",
       "module                                                        \n",
       "ANL303   17.0  0.685294  0.214159  0.2  0.60  0.80  0.800  0.9\n",
       "ANL305   12.0  0.691667  0.227470  0.2  0.65  0.70  0.825  1.0\n",
       "ANL321   15.0  0.556667  0.219469  0.2  0.45  0.55  0.750  0.9"
      ]
     },
     "execution_count": 61,
     "metadata": {},
     "output_type": "execute_result"
    }
   ],
   "source": [
    "# Summary statistics of non-regular users' scores according to module\n",
    "\n",
    "df_non_reg_users.groupby('module')['score'].describe()"
   ]
  },
  {
   "cell_type": "code",
   "execution_count": 62,
   "metadata": {},
   "outputs": [
    {
     "data": {
      "image/png": "[encoded data removed]",
      "text/plain": [
       "<Figure size 648x216 with 3 Axes>"
      ]
     },
     "metadata": {},
     "output_type": "display_data"
    }
   ],
   "source": [
    "g4 = sns.FacetGrid(df_non_reg_users,col='module',hue='module')\n",
    "g4 = g4.map(sns.distplot, 'score')"
   ]
  },
  {
   "cell_type": "code",
   "execution_count": 63,
   "metadata": {},
   "outputs": [
    {
     "data": {
      "text/plain": [
       "<matplotlib.axes._subplots.AxesSubplot at 0x277b1c03160>"
      ]
     },
     "execution_count": 63,
     "metadata": {},
     "output_type": "execute_result"
    },
    {
     "data": {
      "image/png": "[encoded data removed]",
      "text/plain": [
       "<Figure size 432x288 with 1 Axes>"
      ]
     },
     "metadata": {},
     "output_type": "display_data"
    }
   ],
   "source": [
    "sns.boxplot(x='module', y='score',data=df_non_reg_users)"
   ]
  },
  {
   "cell_type": "markdown",
   "metadata": {},
   "source": [
    "#### c (v). Relationship between non-regular users' scores and days left\n",
    "\n",
    "The scatter plot fails to show any significant relationship between the scores and number of days left (corr = -0.07) for non-regular users, which was previously found for regular users."
   ]
  },
  {
   "cell_type": "code",
   "execution_count": 64,
   "metadata": {},
   "outputs": [
    {
     "data": {
      "text/html": [
       "<div>\n",
       "<style scoped>\n",
       "    .dataframe tbody tr th:only-of-type {\n",
       "        vertical-align: middle;\n",
       "    }\n",
       "\n",
       "    .dataframe tbody tr th {\n",
       "        vertical-align: top;\n",
       "    }\n",
       "\n",
       "    .dataframe thead th {\n",
       "        text-align: right;\n",
       "    }\n",
       "</style>\n",
       "<table border=\"1\" class=\"dataframe\">\n",
       "  <thead>\n",
       "    <tr style=\"text-align: right;\">\n",
       "      <th></th>\n",
       "      <th>score</th>\n",
       "      <th>days_left</th>\n",
       "    </tr>\n",
       "  </thead>\n",
       "  <tbody>\n",
       "    <tr>\n",
       "      <th>score</th>\n",
       "      <td>1.000000</td>\n",
       "      <td>-0.071559</td>\n",
       "    </tr>\n",
       "    <tr>\n",
       "      <th>days_left</th>\n",
       "      <td>-0.071559</td>\n",
       "      <td>1.000000</td>\n",
       "    </tr>\n",
       "  </tbody>\n",
       "</table>\n",
       "</div>"
      ],
      "text/plain": [
       "              score  days_left\n",
       "score      1.000000  -0.071559\n",
       "days_left -0.071559   1.000000"
      ]
     },
     "execution_count": 64,
     "metadata": {},
     "output_type": "execute_result"
    }
   ],
   "source": [
    "# Correlation between non-regular users' scores and days left\n",
    "df_non_reg_users[['score','days_left']].corr()"
   ]
  },
  {
   "cell_type": "code",
   "execution_count": 65,
   "metadata": {},
   "outputs": [
    {
     "data": {
      "text/plain": [
       "<seaborn.axisgrid.JointGrid at 0x277b1c95d68>"
      ]
     },
     "execution_count": 65,
     "metadata": {},
     "output_type": "execute_result"
    },
    {
     "data": {
      "image/png": "[encoded data removed]",
      "text/plain": [
       "<Figure size 432x432 with 3 Axes>"
      ]
     },
     "metadata": {},
     "output_type": "display_data"
    }
   ],
   "source": [
    "# Relationship between non-regular users' scores and days left\n",
    "sns.jointplot(x='days_left',y='score',data=df_non_reg_users,kind='reg')"
   ]
  },
  {
   "cell_type": "markdown",
   "metadata": {},
   "source": [
    "Across all modules, there seems to be no linear relationship between scores and the number of days left. The regression lines plotted are almost hortizontal for all modules."
   ]
  },
  {
   "cell_type": "code",
   "execution_count": 66,
   "metadata": {},
   "outputs": [
    {
     "data": {
      "image/png": "[encoded data removed]",
      "text/plain": [
       "<Figure size 648x216 with 3 Axes>"
      ]
     },
     "metadata": {},
     "output_type": "display_data"
    }
   ],
   "source": [
    "# Relationship between non-regular users' scores and days left according to module\n",
    "\n",
    "g5 = sns.FacetGrid(df_non_reg_users,col='module',hue='module')\n",
    "g5 = g5.map(sns.regplot, x='days_left',y='score',data=df_non_reg_users)"
   ]
  },
  {
   "cell_type": "markdown",
   "metadata": {},
   "source": [
    "### 4. Linear Regression Model\n",
    "\n",
    "The initial idea was to construct a linear regression model to predict the student's final official grade based on the data collected from the bot. This would involve students willingly reporting their grade for the 3 modules after receiving their final results. This was not implemented as users did not feel comfortable in divulging such information.\n",
    "\n",
    "Hence, the model built here aims to predict the quiz score based on a select number of features. This section details the selection, preparation, construction and evaluation of the model."
   ]
  },
  {
   "cell_type": "markdown",
   "metadata": {},
   "source": [
    "####  a. Feature selection\n",
    "Selection of attributes that should be inputted into the model"
   ]
  },
  {
   "cell_type": "code",
   "execution_count": 67,
   "metadata": {},
   "outputs": [
    {
     "data": {
      "text/plain": [
       "Index(['user_id', 'module', 'num_q', 'r_score', 'datetime', 'score', 'z_score',\n",
       "       'exam_date', 'date', 'time', 'days_left'],\n",
       "      dtype='object')"
      ]
     },
     "execution_count": 67,
     "metadata": {},
     "output_type": "execute_result"
    }
   ],
   "source": [
    "# Existing features in the dataset\n",
    "df.columns"
   ]
  },
  {
   "cell_type": "markdown",
   "metadata": {},
   "source": [
    "The table below displays the attributes that currently exist in the dataset. Supporting reasons are also provided for attributes that were not selected.\n",
    "\n",
    "| Attribute | Data type | Included in model | Reason for exclusion |\n",
    "| --- | --- | --- | --- |\n",
    "| module  | nominal** | regressor |\n",
    "| num_q   | discrete | regressor | \n",
    "| days_left | continuous | regressor |\n",
    "| score | continuous | dependent variable |\n",
    "||\n",
    "| r_score | continuous | no | used to derive 'score' |\n",
    "| datetime | datetime | no | used to derive 'days_left' |\n",
    "| user_id | nominal | no | record identifier | \n",
    "| z-score| continuos | no | normalized 'score' |\n",
    "| exam_date | datetime | no | used to derive 'days_left' |\n",
    "| date | date | no | used to derive 'days_left' |\n",
    "| time | time | no | used to derive 'days_left' |\n",
    "\n",
    "\n",
    "                                               ** data preparation needed"
   ]
  },
  {
   "cell_type": "markdown",
   "metadata": {},
   "source": [
    "#### b. Deriving new attributes\n",
    "\n",
    "In section 3 (analysis) of this report, users were split into regular & non-regular. Thus, the type of user can be a new attribute to be included in the model."
   ]
  },
  {
   "cell_type": "code",
   "execution_count": 68,
   "metadata": {},
   "outputs": [],
   "source": [
    "# Add new attribute: type of user (non-reg = 0, reg =1)\n",
    "df['type_of_user']=0"
   ]
  },
  {
   "cell_type": "code",
   "execution_count": 69,
   "metadata": {},
   "outputs": [],
   "source": [
    "# Assign reg users = 1\n",
    "df.loc[df['user_id'].isin(reg_users),['type_of_user']]=1"
   ]
  },
  {
   "cell_type": "code",
   "execution_count": 70,
   "metadata": {},
   "outputs": [
    {
     "data": {
      "text/plain": [
       "<matplotlib.axes._subplots.AxesSubplot at 0x277afdc4550>"
      ]
     },
     "execution_count": 70,
     "metadata": {},
     "output_type": "execute_result"
    },
    {
     "data": {
      "image/png": "[encoded data removed]",
      "text/plain": [
       "<Figure size 432x288 with 1 Axes>"
      ]
     },
     "metadata": {},
     "output_type": "display_data"
    }
   ],
   "source": [
    "# Bar plot of user type\n",
    "sns.countplot(df['type_of_user'])"
   ]
  },
  {
   "cell_type": "markdown",
   "metadata": {},
   "source": [
    "#### c. Data preparation\n",
    "\n",
    "The attribute 'module' is currently nominal. It needs to be encoded into numerical values in order for the linear regression model to make use of it. Here, the dummy encoding method was utilised, resulting in 2 <i>(k</i>-1) variables. ANL321 was chosen as the reference module. "
   ]
  },
  {
   "cell_type": "code",
   "execution_count": 71,
   "metadata": {},
   "outputs": [],
   "source": [
    "# Encode module name to numerical values\n",
    "df['anl303']=df['module'].apply(lambda x: 1 if x =='ANL303' else 0 )"
   ]
  },
  {
   "cell_type": "code",
   "execution_count": 72,
   "metadata": {},
   "outputs": [],
   "source": [
    "df['anl305']=df['module'].apply(lambda x: 1 if x =='ANL305' else 0 )"
   ]
  },
  {
   "cell_type": "code",
   "execution_count": 73,
   "metadata": {},
   "outputs": [
    {
     "data": {
      "text/plain": [
       "0"
      ]
     },
     "execution_count": 73,
     "metadata": {},
     "output_type": "execute_result"
    }
   ],
   "source": [
    "# Check that encoding was performed correctly\n",
    "sum(df[['anl303','anl305']].sum(axis=1)>1)"
   ]
  },
  {
   "cell_type": "markdown",
   "metadata": {},
   "source": [
    "#### d. Model construction\n",
    "The dataset is first partitioned into training and testing sets with a ratio of 70:30. The training set represents the data that is input to construct the model. The testing set is later used in the next sub-section to evaluate the performance of the model on \"unseen\" data."
   ]
  },
  {
   "cell_type": "code",
   "execution_count": 74,
   "metadata": {},
   "outputs": [],
   "source": [
    "# Assign X and y to selected regressors and dependent variable respectively\n",
    "\n",
    "X = df[['num_q' ,'days_left', 'anl303', 'anl305']]\n",
    "y = df['score']"
   ]
  },
  {
   "cell_type": "code",
   "execution_count": 75,
   "metadata": {},
   "outputs": [],
   "source": [
    "from sklearn.model_selection import train_test_split\n",
    "from sklearn.linear_model import LinearRegression"
   ]
  },
  {
   "cell_type": "code",
   "execution_count": 76,
   "metadata": {},
   "outputs": [],
   "source": [
    "# Partition dataset into training and testing set\n",
    "X_train, X_test, y_train, y_test = train_test_split(X,y,test_size=0.3)"
   ]
  },
  {
   "cell_type": "code",
   "execution_count": 77,
   "metadata": {},
   "outputs": [
    {
     "data": {
      "text/plain": [
       "LinearRegression(copy_X=True, fit_intercept=True, n_jobs=None, normalize=False)"
      ]
     },
     "execution_count": 77,
     "metadata": {},
     "output_type": "execute_result"
    }
   ],
   "source": [
    "# Feed training data into model\n",
    "lm = LinearRegression()\n",
    "lm.fit(X_train,y_train)"
   ]
  },
  {
   "cell_type": "markdown",
   "metadata": {},
   "source": [
    "<strong>Interpretation of coefficients:</strong>\n",
    "<ol>\n",
    "    <li>On average, a one unit increase in number of questions selected leads to a 0.0077 increase in\n",
    "        score holding all other factors constant.</li>\n",
    "    <li>On average, a one unit decrease in the number of days left leads to a 0.0129 increase in score,\n",
    "        holding all other factors constant.</li>\n",
    "    <li>On average, scores for anl303 are 0.0374 higher than anl321, holding all other factors constant.</li>\n",
    "<li>On average, scores for anl305 are 0.1042 higher than anl321, holding all other factors constant</li></ol>"
   ]
  },
  {
   "cell_type": "code",
   "execution_count": 78,
   "metadata": {},
   "outputs": [
    {
     "name": "stdout",
     "output_type": "stream",
     "text": [
      "intercept = 0.6786137396223938\n"
     ]
    },
    {
     "data": {
      "text/html": [
       "<div>\n",
       "<style scoped>\n",
       "    .dataframe tbody tr th:only-of-type {\n",
       "        vertical-align: middle;\n",
       "    }\n",
       "\n",
       "    .dataframe tbody tr th {\n",
       "        vertical-align: top;\n",
       "    }\n",
       "\n",
       "    .dataframe thead th {\n",
       "        text-align: right;\n",
       "    }\n",
       "</style>\n",
       "<table border=\"1\" class=\"dataframe\">\n",
       "  <thead>\n",
       "    <tr style=\"text-align: right;\">\n",
       "      <th></th>\n",
       "      <th>Coefficient</th>\n",
       "    </tr>\n",
       "  </thead>\n",
       "  <tbody>\n",
       "    <tr>\n",
       "      <th>num_q</th>\n",
       "      <td>0.004414</td>\n",
       "    </tr>\n",
       "    <tr>\n",
       "      <th>days_left</th>\n",
       "      <td>-0.010534</td>\n",
       "    </tr>\n",
       "    <tr>\n",
       "      <th>anl303</th>\n",
       "      <td>0.101955</td>\n",
       "    </tr>\n",
       "    <tr>\n",
       "      <th>anl305</th>\n",
       "      <td>0.098515</td>\n",
       "    </tr>\n",
       "  </tbody>\n",
       "</table>\n",
       "</div>"
      ],
      "text/plain": [
       "           Coefficient\n",
       "num_q         0.004414\n",
       "days_left    -0.010534\n",
       "anl303        0.101955\n",
       "anl305        0.098515"
      ]
     },
     "execution_count": 78,
     "metadata": {},
     "output_type": "execute_result"
    }
   ],
   "source": [
    "coeff_df = pd.DataFrame(lm.coef_, X.columns,columns=['Coefficient'])\n",
    "print(f'intercept = {lm.intercept_}')\n",
    "coeff_df"
   ]
  },
  {
   "cell_type": "markdown",
   "metadata": {},
   "source": [
    "#### e. Evaluate predictions\n",
    "\n",
    "This subsection aims to evaluate the performance of the model by comparing the predicted and actual scores of the testing set."
   ]
  },
  {
   "cell_type": "code",
   "execution_count": 79,
   "metadata": {},
   "outputs": [],
   "source": [
    "predictions = lm.predict(X_test)"
   ]
  },
  {
   "cell_type": "code",
   "execution_count": 80,
   "metadata": {},
   "outputs": [
    {
     "data": {
      "text/plain": [
       "pandas.core.series.Series"
      ]
     },
     "execution_count": 80,
     "metadata": {},
     "output_type": "execute_result"
    }
   ],
   "source": [
    "# Convert predictions object type to pandas Series\n",
    "predictions = pd.Series(predictions)\n",
    "type(predictions)"
   ]
  },
  {
   "cell_type": "markdown",
   "metadata": {},
   "source": [
    "The correlation coefficient of between the predicted and actual scores was computed to be 0.2949. This suggests that the model is only able to explain 29.49% of the variance in scores. The scatterplot (x axis = predicted score, y axis = actual score) displays the model's weak fit to the data."
   ]
  },
  {
   "cell_type": "code",
   "execution_count": 81,
   "metadata": {},
   "outputs": [
    {
     "data": {
      "text/plain": [
       "0.18531246495113787"
      ]
     },
     "execution_count": 81,
     "metadata": {},
     "output_type": "execute_result"
    }
   ],
   "source": [
    "y_test.corr(predictions)"
   ]
  },
  {
   "cell_type": "code",
   "execution_count": 82,
   "metadata": {},
   "outputs": [
    {
     "data": {
      "text/plain": [
       "<seaborn.axisgrid.JointGrid at 0x277af84c780>"
      ]
     },
     "execution_count": 82,
     "metadata": {},
     "output_type": "execute_result"
    },
    {
     "data": {
      "image/png": "[encoded data removed]",
      "text/plain": [
       "<Figure size 432x432 with 3 Axes>"
      ]
     },
     "metadata": {},
     "output_type": "display_data"
    }
   ],
   "source": [
    "sns.jointplot(x=predictions,y=y_test,kind='reg')"
   ]
  },
  {
   "cell_type": "code",
   "execution_count": 83,
   "metadata": {},
   "outputs": [],
   "source": [
    "# Reset y_test index\n",
    "y_test.reset_index(drop=True,inplace=True)"
   ]
  },
  {
   "cell_type": "code",
   "execution_count": 84,
   "metadata": {},
   "outputs": [
    {
     "data": {
      "text/html": [
       "<div>\n",
       "<style scoped>\n",
       "    .dataframe tbody tr th:only-of-type {\n",
       "        vertical-align: middle;\n",
       "    }\n",
       "\n",
       "    .dataframe tbody tr th {\n",
       "        vertical-align: top;\n",
       "    }\n",
       "\n",
       "    .dataframe thead th {\n",
       "        text-align: right;\n",
       "    }\n",
       "</style>\n",
       "<table border=\"1\" class=\"dataframe\">\n",
       "  <thead>\n",
       "    <tr style=\"text-align: right;\">\n",
       "      <th></th>\n",
       "      <th>predicted score</th>\n",
       "      <th>residual</th>\n",
       "    </tr>\n",
       "  </thead>\n",
       "  <tbody>\n",
       "    <tr>\n",
       "      <th>0</th>\n",
       "      <td>0.826708</td>\n",
       "      <td>-0.026708</td>\n",
       "    </tr>\n",
       "    <tr>\n",
       "      <th>1</th>\n",
       "      <td>0.708829</td>\n",
       "      <td>-0.508829</td>\n",
       "    </tr>\n",
       "    <tr>\n",
       "      <th>2</th>\n",
       "      <td>0.629943</td>\n",
       "      <td>0.320057</td>\n",
       "    </tr>\n",
       "    <tr>\n",
       "      <th>3</th>\n",
       "      <td>0.585805</td>\n",
       "      <td>-0.385805</td>\n",
       "    </tr>\n",
       "    <tr>\n",
       "      <th>4</th>\n",
       "      <td>0.631649</td>\n",
       "      <td>0.268351</td>\n",
       "    </tr>\n",
       "  </tbody>\n",
       "</table>\n",
       "</div>"
      ],
      "text/plain": [
       "   predicted score  residual\n",
       "0         0.826708 -0.026708\n",
       "1         0.708829 -0.508829\n",
       "2         0.629943  0.320057\n",
       "3         0.585805 -0.385805\n",
       "4         0.631649  0.268351"
      ]
     },
     "execution_count": 84,
     "metadata": {},
     "output_type": "execute_result"
    }
   ],
   "source": [
    "# Distribution of residuals\n",
    "residuals = pd.DataFrame(data={'predicted score':predictions, 'residual':y_test-predictions,})\n",
    "residuals.head()"
   ]
  },
  {
   "cell_type": "code",
   "execution_count": 85,
   "metadata": {},
   "outputs": [
    {
     "data": {
      "text/plain": [
       "<matplotlib.axes._subplots.AxesSubplot at 0x277b285f4a8>"
      ]
     },
     "execution_count": 85,
     "metadata": {},
     "output_type": "execute_result"
    },
    {
     "data": {
      "image/png": "[encoded data removed]",
      "text/plain": [
       "<Figure size 432x288 with 1 Axes>"
      ]
     },
     "metadata": {},
     "output_type": "display_data"
    }
   ],
   "source": [
    "# Distribution of residuals\n",
    "sns.distplot(residuals['residual'])"
   ]
  },
  {
   "cell_type": "markdown",
   "metadata": {},
   "source": [
    "The figure belows shows a scatter plot of residuals against predicted scores. There is no recognisable pattern in the residuals."
   ]
  },
  {
   "cell_type": "code",
   "execution_count": 86,
   "metadata": {},
   "outputs": [
    {
     "data": {
      "text/plain": [
       "<seaborn.axisgrid.JointGrid at 0x277b390ae48>"
      ]
     },
     "execution_count": 86,
     "metadata": {},
     "output_type": "execute_result"
    },
    {
     "data": {
      "image/png": "[encoded data removed]",
      "text/plain": [
       "<Figure size 432x432 with 3 Axes>"
      ]
     },
     "metadata": {},
     "output_type": "display_data"
    }
   ],
   "source": [
    "# Scatter plot of residuals and predicted values\n",
    "sns.jointplot(x='predicted score',y='residual',data=residuals,kind='scatter')"
   ]
  },
  {
   "cell_type": "code",
   "execution_count": 87,
   "metadata": {},
   "outputs": [],
   "source": [
    "# Import metrics module\n",
    "from sklearn import metrics"
   ]
  },
  {
   "cell_type": "code",
   "execution_count": 88,
   "metadata": {},
   "outputs": [
    {
     "name": "stdout",
     "output_type": "stream",
     "text": [
      "MSE: 0.057932039850931275\n"
     ]
    }
   ],
   "source": [
    "# Calculate MSE\n",
    "print(f'MSE: {metrics.mean_squared_error(y_test,predictions)}')"
   ]
  },
  {
   "cell_type": "code",
   "execution_count": 89,
   "metadata": {},
   "outputs": [
    {
     "data": {
      "text/plain": [
       "<matplotlib.axes._subplots.AxesSubplot at 0x277b39ff470>"
      ]
     },
     "execution_count": 89,
     "metadata": {},
     "output_type": "execute_result"
    },
    {
     "data": {
      "image/png": "[encoded data removed]",
      "text/plain": [
       "<Figure size 432x288 with 1 Axes>"
      ]
     },
     "metadata": {},
     "output_type": "display_data"
    }
   ],
   "source": [
    "sns.distplot(df['score'])"
   ]
  }
 ],
 "metadata": {
  "kernelspec": {
   "display_name": "Python 3",
   "language": "python",
   "name": "python3"
  },
  "language_info": {
   "codemirror_mode": {
    "name": "ipython",
    "version": 3
   },
   "file_extension": ".py",
   "mimetype": "text/x-python",
   "name": "python",
   "nbconvert_exporter": "python",
   "pygments_lexer": "ipython3",
   "version": "3.7.3"
  }
 },
 "nbformat": 4,
 "nbformat_minor": 2
}
